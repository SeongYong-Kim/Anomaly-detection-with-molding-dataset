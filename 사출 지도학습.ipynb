{
 "cells": [
  {
   "cell_type": "markdown",
   "metadata": {},
   "source": [
    "# Labeled data를 이용한 supervised Autoencoder model, training with Y"
   ]
  },
  {
   "cell_type": "markdown",
   "metadata": {},
   "source": [
    "## 1. 데이터셋 불러오기"
   ]
  },
  {
   "cell_type": "markdown",
   "metadata": {},
   "source": [
    "- 필요 라이브러리 불러오기"
   ]
  },
  {
   "cell_type": "code",
   "execution_count": 168,
   "metadata": {},
   "outputs": [],
   "source": [
    "import numpy as np\n",
    "import pandas as pd\n",
    "from tensorflow.keras.layers import Dense, Dropout\n",
    "from tensorflow.keras.models import Sequential\n",
    "from tensorflow.keras.optimizers import Adam\n",
    "from tensorflow.keras.callbacks import EarlyStopping\n",
    "import matplotlib.pyplot as plt\n",
    "import seaborn as sns\n",
    "from sklearn.preprocessing import MinMaxScaler"
   ]
  },
  {
   "cell_type": "markdown",
   "metadata": {},
   "source": [
    "- 데이터셋 로드"
   ]
  },
  {
   "cell_type": "code",
   "execution_count": 169,
   "metadata": {},
   "outputs": [
    {
     "data": {
      "text/html": [
       "<div>\n",
       "<style scoped>\n",
       "    .dataframe tbody tr th:only-of-type {\n",
       "        vertical-align: middle;\n",
       "    }\n",
       "\n",
       "    .dataframe tbody tr th {\n",
       "        vertical-align: top;\n",
       "    }\n",
       "\n",
       "    .dataframe thead th {\n",
       "        text-align: right;\n",
       "    }\n",
       "</style>\n",
       "<table border=\"1\" class=\"dataframe\">\n",
       "  <thead>\n",
       "    <tr style=\"text-align: right;\">\n",
       "      <th></th>\n",
       "      <th>_id</th>\n",
       "      <th>TimeStamp</th>\n",
       "      <th>PART_FACT_PLAN_DATE</th>\n",
       "      <th>PART_FACT_SERIAL</th>\n",
       "      <th>PART_NAME</th>\n",
       "      <th>EQUIP_CD</th>\n",
       "      <th>EQUIP_NAME</th>\n",
       "      <th>PassOrFail</th>\n",
       "      <th>Reason</th>\n",
       "      <th>Injection_Time</th>\n",
       "      <th>...</th>\n",
       "      <th>Mold_Temperature_3</th>\n",
       "      <th>Mold_Temperature_4</th>\n",
       "      <th>Mold_Temperature_5</th>\n",
       "      <th>Mold_Temperature_6</th>\n",
       "      <th>Mold_Temperature_7</th>\n",
       "      <th>Mold_Temperature_8</th>\n",
       "      <th>Mold_Temperature_9</th>\n",
       "      <th>Mold_Temperature_10</th>\n",
       "      <th>Mold_Temperature_11</th>\n",
       "      <th>Mold_Temperature_12</th>\n",
       "    </tr>\n",
       "  </thead>\n",
       "  <tbody>\n",
       "    <tr>\n",
       "      <th>0</th>\n",
       "      <td>5f8928bb9c0189cc666ef19b</td>\n",
       "      <td>2020-10-16 04:57:47</td>\n",
       "      <td>2020-10-16 오전 12:00:00</td>\n",
       "      <td>24</td>\n",
       "      <td>CN7 W/S SIDE MLD'G RH</td>\n",
       "      <td>S14</td>\n",
       "      <td>650톤-우진2호기</td>\n",
       "      <td>Y</td>\n",
       "      <td>None</td>\n",
       "      <td>9.59</td>\n",
       "      <td>...</td>\n",
       "      <td>24.799999</td>\n",
       "      <td>27.500000</td>\n",
       "      <td>0.0</td>\n",
       "      <td>0.0</td>\n",
       "      <td>0.0</td>\n",
       "      <td>0.0</td>\n",
       "      <td>0.0</td>\n",
       "      <td>0.0</td>\n",
       "      <td>0.0</td>\n",
       "      <td>0.0</td>\n",
       "    </tr>\n",
       "    <tr>\n",
       "      <th>1</th>\n",
       "      <td>5f8928de9c0189cc666ef20b</td>\n",
       "      <td>2020-10-16 04:58:48</td>\n",
       "      <td>2020-10-16 오전 12:00:00</td>\n",
       "      <td>24</td>\n",
       "      <td>CN7 W/S SIDE MLD'G RH</td>\n",
       "      <td>S14</td>\n",
       "      <td>650톤-우진2호기</td>\n",
       "      <td>Y</td>\n",
       "      <td>None</td>\n",
       "      <td>9.60</td>\n",
       "      <td>...</td>\n",
       "      <td>24.799999</td>\n",
       "      <td>27.600000</td>\n",
       "      <td>0.0</td>\n",
       "      <td>0.0</td>\n",
       "      <td>0.0</td>\n",
       "      <td>0.0</td>\n",
       "      <td>0.0</td>\n",
       "      <td>0.0</td>\n",
       "      <td>0.0</td>\n",
       "      <td>0.0</td>\n",
       "    </tr>\n",
       "    <tr>\n",
       "      <th>2</th>\n",
       "      <td>5f8928df9c0189cc666ef213</td>\n",
       "      <td>2020-10-16 04:58:48</td>\n",
       "      <td>2020-10-16 오전 12:00:00</td>\n",
       "      <td>23</td>\n",
       "      <td>CN7 W/S SIDE MLD'G LH</td>\n",
       "      <td>S14</td>\n",
       "      <td>650톤-우진2호기</td>\n",
       "      <td>Y</td>\n",
       "      <td>None</td>\n",
       "      <td>9.60</td>\n",
       "      <td>...</td>\n",
       "      <td>24.799999</td>\n",
       "      <td>27.600000</td>\n",
       "      <td>0.0</td>\n",
       "      <td>0.0</td>\n",
       "      <td>0.0</td>\n",
       "      <td>0.0</td>\n",
       "      <td>0.0</td>\n",
       "      <td>0.0</td>\n",
       "      <td>0.0</td>\n",
       "      <td>0.0</td>\n",
       "    </tr>\n",
       "    <tr>\n",
       "      <th>3</th>\n",
       "      <td>5f8928f39c0189cc666ef25e</td>\n",
       "      <td>2020-10-16 04:59:48</td>\n",
       "      <td>2020-10-16 오전 12:00:00</td>\n",
       "      <td>23</td>\n",
       "      <td>CN7 W/S SIDE MLD'G LH</td>\n",
       "      <td>S14</td>\n",
       "      <td>650톤-우진2호기</td>\n",
       "      <td>Y</td>\n",
       "      <td>None</td>\n",
       "      <td>9.59</td>\n",
       "      <td>...</td>\n",
       "      <td>25.000000</td>\n",
       "      <td>27.600000</td>\n",
       "      <td>0.0</td>\n",
       "      <td>0.0</td>\n",
       "      <td>0.0</td>\n",
       "      <td>0.0</td>\n",
       "      <td>0.0</td>\n",
       "      <td>0.0</td>\n",
       "      <td>0.0</td>\n",
       "      <td>0.0</td>\n",
       "    </tr>\n",
       "    <tr>\n",
       "      <th>4</th>\n",
       "      <td>5f8928f59c0189cc666ef265</td>\n",
       "      <td>2020-10-16 04:59:48</td>\n",
       "      <td>2020-10-16 오전 12:00:00</td>\n",
       "      <td>24</td>\n",
       "      <td>CN7 W/S SIDE MLD'G RH</td>\n",
       "      <td>S14</td>\n",
       "      <td>650톤-우진2호기</td>\n",
       "      <td>Y</td>\n",
       "      <td>None</td>\n",
       "      <td>9.59</td>\n",
       "      <td>...</td>\n",
       "      <td>25.000000</td>\n",
       "      <td>27.600000</td>\n",
       "      <td>0.0</td>\n",
       "      <td>0.0</td>\n",
       "      <td>0.0</td>\n",
       "      <td>0.0</td>\n",
       "      <td>0.0</td>\n",
       "      <td>0.0</td>\n",
       "      <td>0.0</td>\n",
       "      <td>0.0</td>\n",
       "    </tr>\n",
       "    <tr>\n",
       "      <th>...</th>\n",
       "      <td>...</td>\n",
       "      <td>...</td>\n",
       "      <td>...</td>\n",
       "      <td>...</td>\n",
       "      <td>...</td>\n",
       "      <td>...</td>\n",
       "      <td>...</td>\n",
       "      <td>...</td>\n",
       "      <td>...</td>\n",
       "      <td>...</td>\n",
       "      <td>...</td>\n",
       "      <td>...</td>\n",
       "      <td>...</td>\n",
       "      <td>...</td>\n",
       "      <td>...</td>\n",
       "      <td>...</td>\n",
       "      <td>...</td>\n",
       "      <td>...</td>\n",
       "      <td>...</td>\n",
       "      <td>...</td>\n",
       "      <td>...</td>\n",
       "    </tr>\n",
       "    <tr>\n",
       "      <th>7991</th>\n",
       "      <td>5fa112859c0189cc66dabe34</td>\n",
       "      <td>2020-11-03 08:17:36</td>\n",
       "      <td>2020-11-03 오전 12:00:00</td>\n",
       "      <td>6</td>\n",
       "      <td>CN7 W/S SIDE MLD'G LH</td>\n",
       "      <td>S14</td>\n",
       "      <td>650톤-우진2호기</td>\n",
       "      <td>Y</td>\n",
       "      <td>None</td>\n",
       "      <td>9.60</td>\n",
       "      <td>...</td>\n",
       "      <td>21.000000</td>\n",
       "      <td>22.400000</td>\n",
       "      <td>0.0</td>\n",
       "      <td>0.0</td>\n",
       "      <td>0.0</td>\n",
       "      <td>0.0</td>\n",
       "      <td>0.0</td>\n",
       "      <td>0.0</td>\n",
       "      <td>0.0</td>\n",
       "      <td>0.0</td>\n",
       "    </tr>\n",
       "    <tr>\n",
       "      <th>7992</th>\n",
       "      <td>5fa112869c0189cc66dabe42</td>\n",
       "      <td>2020-11-03 08:18:37</td>\n",
       "      <td>2020-11-03 오전 12:00:00</td>\n",
       "      <td>7</td>\n",
       "      <td>CN7 W/S SIDE MLD'G RH</td>\n",
       "      <td>S14</td>\n",
       "      <td>650톤-우진2호기</td>\n",
       "      <td>Y</td>\n",
       "      <td>None</td>\n",
       "      <td>9.60</td>\n",
       "      <td>...</td>\n",
       "      <td>21.000000</td>\n",
       "      <td>22.400000</td>\n",
       "      <td>0.0</td>\n",
       "      <td>0.0</td>\n",
       "      <td>0.0</td>\n",
       "      <td>0.0</td>\n",
       "      <td>0.0</td>\n",
       "      <td>0.0</td>\n",
       "      <td>0.0</td>\n",
       "      <td>0.0</td>\n",
       "    </tr>\n",
       "    <tr>\n",
       "      <th>7993</th>\n",
       "      <td>5fa112879c0189cc66dabe50</td>\n",
       "      <td>2020-11-03 08:18:37</td>\n",
       "      <td>2020-11-03 오전 12:00:00</td>\n",
       "      <td>6</td>\n",
       "      <td>CN7 W/S SIDE MLD'G LH</td>\n",
       "      <td>S14</td>\n",
       "      <td>650톤-우진2호기</td>\n",
       "      <td>Y</td>\n",
       "      <td>None</td>\n",
       "      <td>9.60</td>\n",
       "      <td>...</td>\n",
       "      <td>21.000000</td>\n",
       "      <td>22.400000</td>\n",
       "      <td>0.0</td>\n",
       "      <td>0.0</td>\n",
       "      <td>0.0</td>\n",
       "      <td>0.0</td>\n",
       "      <td>0.0</td>\n",
       "      <td>0.0</td>\n",
       "      <td>0.0</td>\n",
       "      <td>0.0</td>\n",
       "    </tr>\n",
       "    <tr>\n",
       "      <th>7994</th>\n",
       "      <td>5fa112bb9c0189cc66dac22a</td>\n",
       "      <td>2020-11-03 08:19:35</td>\n",
       "      <td>2020-11-03 오전 12:00:00</td>\n",
       "      <td>6</td>\n",
       "      <td>CN7 W/S SIDE MLD'G LH</td>\n",
       "      <td>S14</td>\n",
       "      <td>650톤-우진2호기</td>\n",
       "      <td>Y</td>\n",
       "      <td>None</td>\n",
       "      <td>9.60</td>\n",
       "      <td>...</td>\n",
       "      <td>21.000000</td>\n",
       "      <td>22.299999</td>\n",
       "      <td>0.0</td>\n",
       "      <td>0.0</td>\n",
       "      <td>0.0</td>\n",
       "      <td>0.0</td>\n",
       "      <td>0.0</td>\n",
       "      <td>0.0</td>\n",
       "      <td>0.0</td>\n",
       "      <td>0.0</td>\n",
       "    </tr>\n",
       "    <tr>\n",
       "      <th>7995</th>\n",
       "      <td>5fa112bc9c0189cc66dac23a</td>\n",
       "      <td>2020-11-03 08:19:35</td>\n",
       "      <td>2020-11-03 오전 12:00:00</td>\n",
       "      <td>7</td>\n",
       "      <td>CN7 W/S SIDE MLD'G RH</td>\n",
       "      <td>S14</td>\n",
       "      <td>650톤-우진2호기</td>\n",
       "      <td>Y</td>\n",
       "      <td>None</td>\n",
       "      <td>9.60</td>\n",
       "      <td>...</td>\n",
       "      <td>21.000000</td>\n",
       "      <td>22.299999</td>\n",
       "      <td>0.0</td>\n",
       "      <td>0.0</td>\n",
       "      <td>0.0</td>\n",
       "      <td>0.0</td>\n",
       "      <td>0.0</td>\n",
       "      <td>0.0</td>\n",
       "      <td>0.0</td>\n",
       "      <td>0.0</td>\n",
       "    </tr>\n",
       "  </tbody>\n",
       "</table>\n",
       "<p>7996 rows × 45 columns</p>\n",
       "</div>"
      ],
      "text/plain": [
       "                           _id            TimeStamp     PART_FACT_PLAN_DATE  \\\n",
       "0     5f8928bb9c0189cc666ef19b  2020-10-16 04:57:47  2020-10-16 오전 12:00:00   \n",
       "1     5f8928de9c0189cc666ef20b  2020-10-16 04:58:48  2020-10-16 오전 12:00:00   \n",
       "2     5f8928df9c0189cc666ef213  2020-10-16 04:58:48  2020-10-16 오전 12:00:00   \n",
       "3     5f8928f39c0189cc666ef25e  2020-10-16 04:59:48  2020-10-16 오전 12:00:00   \n",
       "4     5f8928f59c0189cc666ef265  2020-10-16 04:59:48  2020-10-16 오전 12:00:00   \n",
       "...                        ...                  ...                     ...   \n",
       "7991  5fa112859c0189cc66dabe34  2020-11-03 08:17:36  2020-11-03 오전 12:00:00   \n",
       "7992  5fa112869c0189cc66dabe42  2020-11-03 08:18:37  2020-11-03 오전 12:00:00   \n",
       "7993  5fa112879c0189cc66dabe50  2020-11-03 08:18:37  2020-11-03 오전 12:00:00   \n",
       "7994  5fa112bb9c0189cc66dac22a  2020-11-03 08:19:35  2020-11-03 오전 12:00:00   \n",
       "7995  5fa112bc9c0189cc66dac23a  2020-11-03 08:19:35  2020-11-03 오전 12:00:00   \n",
       "\n",
       "      PART_FACT_SERIAL              PART_NAME EQUIP_CD  EQUIP_NAME PassOrFail  \\\n",
       "0                   24  CN7 W/S SIDE MLD'G RH      S14  650톤-우진2호기          Y   \n",
       "1                   24  CN7 W/S SIDE MLD'G RH      S14  650톤-우진2호기          Y   \n",
       "2                   23  CN7 W/S SIDE MLD'G LH      S14  650톤-우진2호기          Y   \n",
       "3                   23  CN7 W/S SIDE MLD'G LH      S14  650톤-우진2호기          Y   \n",
       "4                   24  CN7 W/S SIDE MLD'G RH      S14  650톤-우진2호기          Y   \n",
       "...                ...                    ...      ...         ...        ...   \n",
       "7991                 6  CN7 W/S SIDE MLD'G LH      S14  650톤-우진2호기          Y   \n",
       "7992                 7  CN7 W/S SIDE MLD'G RH      S14  650톤-우진2호기          Y   \n",
       "7993                 6  CN7 W/S SIDE MLD'G LH      S14  650톤-우진2호기          Y   \n",
       "7994                 6  CN7 W/S SIDE MLD'G LH      S14  650톤-우진2호기          Y   \n",
       "7995                 7  CN7 W/S SIDE MLD'G RH      S14  650톤-우진2호기          Y   \n",
       "\n",
       "     Reason  Injection_Time  ...  Mold_Temperature_3  Mold_Temperature_4  \\\n",
       "0      None            9.59  ...           24.799999           27.500000   \n",
       "1      None            9.60  ...           24.799999           27.600000   \n",
       "2      None            9.60  ...           24.799999           27.600000   \n",
       "3      None            9.59  ...           25.000000           27.600000   \n",
       "4      None            9.59  ...           25.000000           27.600000   \n",
       "...     ...             ...  ...                 ...                 ...   \n",
       "7991   None            9.60  ...           21.000000           22.400000   \n",
       "7992   None            9.60  ...           21.000000           22.400000   \n",
       "7993   None            9.60  ...           21.000000           22.400000   \n",
       "7994   None            9.60  ...           21.000000           22.299999   \n",
       "7995   None            9.60  ...           21.000000           22.299999   \n",
       "\n",
       "      Mold_Temperature_5  Mold_Temperature_6  Mold_Temperature_7  \\\n",
       "0                    0.0                 0.0                 0.0   \n",
       "1                    0.0                 0.0                 0.0   \n",
       "2                    0.0                 0.0                 0.0   \n",
       "3                    0.0                 0.0                 0.0   \n",
       "4                    0.0                 0.0                 0.0   \n",
       "...                  ...                 ...                 ...   \n",
       "7991                 0.0                 0.0                 0.0   \n",
       "7992                 0.0                 0.0                 0.0   \n",
       "7993                 0.0                 0.0                 0.0   \n",
       "7994                 0.0                 0.0                 0.0   \n",
       "7995                 0.0                 0.0                 0.0   \n",
       "\n",
       "      Mold_Temperature_8  Mold_Temperature_9  Mold_Temperature_10  \\\n",
       "0                    0.0                 0.0                  0.0   \n",
       "1                    0.0                 0.0                  0.0   \n",
       "2                    0.0                 0.0                  0.0   \n",
       "3                    0.0                 0.0                  0.0   \n",
       "4                    0.0                 0.0                  0.0   \n",
       "...                  ...                 ...                  ...   \n",
       "7991                 0.0                 0.0                  0.0   \n",
       "7992                 0.0                 0.0                  0.0   \n",
       "7993                 0.0                 0.0                  0.0   \n",
       "7994                 0.0                 0.0                  0.0   \n",
       "7995                 0.0                 0.0                  0.0   \n",
       "\n",
       "      Mold_Temperature_11  Mold_Temperature_12  \n",
       "0                     0.0                  0.0  \n",
       "1                     0.0                  0.0  \n",
       "2                     0.0                  0.0  \n",
       "3                     0.0                  0.0  \n",
       "4                     0.0                  0.0  \n",
       "...                   ...                  ...  \n",
       "7991                  0.0                  0.0  \n",
       "7992                  0.0                  0.0  \n",
       "7993                  0.0                  0.0  \n",
       "7994                  0.0                  0.0  \n",
       "7995                  0.0                  0.0  \n",
       "\n",
       "[7996 rows x 45 columns]"
      ]
     },
     "execution_count": 169,
     "metadata": {},
     "output_type": "execute_result"
    }
   ],
   "source": [
    "label_data = pd.read_csv(r'C:\\Users\\pc\\Desktop\\04. Dataset_Molding\\dataset\\labeled_data.csv')\n",
    "label_data"
   ]
  },
  {
   "cell_type": "markdown",
   "metadata": {},
   "source": [
    "## 2. EDA\n",
    "데이터셋의 호기 및 제품의 데이터 종류 및 수 확인"
   ]
  },
  {
   "cell_type": "markdown",
   "metadata": {},
   "source": [
    "- 호기 종류 및 해당 데이터 수 확인   \n",
    "'650톤-우진2호기'만 사용"
   ]
  },
  {
   "cell_type": "code",
   "execution_count": 170,
   "metadata": {},
   "outputs": [
    {
     "data": {
      "text/plain": [
       "650톤-우진2호기    7992\n",
       "650톤-우진          2\n",
       "1800TON-우진       2\n",
       "Name: EQUIP_NAME, dtype: int64"
      ]
     },
     "execution_count": 170,
     "metadata": {},
     "output_type": "execute_result"
    }
   ],
   "source": [
    "label_data['EQUIP_NAME'].value_counts()  #결과는 아래에서 확인 가능하다."
   ]
  },
  {
   "cell_type": "markdown",
   "metadata": {},
   "source": [
    "- 제품 종류 및 해당 데이터 수 확인   \n",
    "     'CN7'과 'RG3'만 사용"
   ]
  },
  {
   "cell_type": "code",
   "execution_count": 171,
   "metadata": {},
   "outputs": [
    {
     "data": {
      "text/plain": [
       "CN7 W/S SIDE MLD'G RH        3371\n",
       "CN7 W/S SIDE MLD'G LH        3365\n",
       "RG3 MOLD'G W/SHLD, LH         628\n",
       "RG3 MOLD'G W/SHLD, RH         628\n",
       "SP2 CVR ROOF RACK CTR, RH       2\n",
       "JX1 W/S SIDE MLD'G RH           2\n",
       "Name: PART_NAME, dtype: int64"
      ]
     },
     "execution_count": 171,
     "metadata": {},
     "output_type": "execute_result"
    }
   ],
   "source": [
    "label_data['PART_NAME'].value_counts() #결과는 아래에서 확인 가능하다."
   ]
  },
  {
   "cell_type": "markdown",
   "metadata": {},
   "source": [
    "* 데이터 통계량 확인"
   ]
  },
  {
   "cell_type": "code",
   "execution_count": 172,
   "metadata": {},
   "outputs": [
    {
     "data": {
      "text/html": [
       "<div>\n",
       "<style scoped>\n",
       "    .dataframe tbody tr th:only-of-type {\n",
       "        vertical-align: middle;\n",
       "    }\n",
       "\n",
       "    .dataframe tbody tr th {\n",
       "        vertical-align: top;\n",
       "    }\n",
       "\n",
       "    .dataframe thead th {\n",
       "        text-align: right;\n",
       "    }\n",
       "</style>\n",
       "<table border=\"1\" class=\"dataframe\">\n",
       "  <thead>\n",
       "    <tr style=\"text-align: right;\">\n",
       "      <th></th>\n",
       "      <th>PART_FACT_SERIAL</th>\n",
       "      <th>Injection_Time</th>\n",
       "      <th>Filling_Time</th>\n",
       "      <th>Plasticizing_Time</th>\n",
       "      <th>Cycle_Time</th>\n",
       "      <th>Clamp_Close_Time</th>\n",
       "      <th>Cushion_Position</th>\n",
       "      <th>Switch_Over_Position</th>\n",
       "      <th>Plasticizing_Position</th>\n",
       "      <th>Clamp_Open_Position</th>\n",
       "      <th>...</th>\n",
       "      <th>Mold_Temperature_3</th>\n",
       "      <th>Mold_Temperature_4</th>\n",
       "      <th>Mold_Temperature_5</th>\n",
       "      <th>Mold_Temperature_6</th>\n",
       "      <th>Mold_Temperature_7</th>\n",
       "      <th>Mold_Temperature_8</th>\n",
       "      <th>Mold_Temperature_9</th>\n",
       "      <th>Mold_Temperature_10</th>\n",
       "      <th>Mold_Temperature_11</th>\n",
       "      <th>Mold_Temperature_12</th>\n",
       "    </tr>\n",
       "  </thead>\n",
       "  <tbody>\n",
       "    <tr>\n",
       "      <th>count</th>\n",
       "      <td>7996.000000</td>\n",
       "      <td>7996.000000</td>\n",
       "      <td>7996.000000</td>\n",
       "      <td>7996.000000</td>\n",
       "      <td>7996.000000</td>\n",
       "      <td>7996.000000</td>\n",
       "      <td>7996.000000</td>\n",
       "      <td>7996.000000</td>\n",
       "      <td>7996.000000</td>\n",
       "      <td>7996.000000</td>\n",
       "      <td>...</td>\n",
       "      <td>7996.000000</td>\n",
       "      <td>7996.000000</td>\n",
       "      <td>7996.0</td>\n",
       "      <td>7996.0</td>\n",
       "      <td>7996.0</td>\n",
       "      <td>7996.0</td>\n",
       "      <td>7996.0</td>\n",
       "      <td>7996.0</td>\n",
       "      <td>7996.0</td>\n",
       "      <td>7996.0</td>\n",
       "    </tr>\n",
       "    <tr>\n",
       "      <th>mean</th>\n",
       "      <td>11.248749</td>\n",
       "      <td>8.242189</td>\n",
       "      <td>3.896309</td>\n",
       "      <td>16.209505</td>\n",
       "      <td>59.900902</td>\n",
       "      <td>7.064088</td>\n",
       "      <td>653.408195</td>\n",
       "      <td>0.330320</td>\n",
       "      <td>66.054484</td>\n",
       "      <td>544.244111</td>\n",
       "      <td>...</td>\n",
       "      <td>22.145260</td>\n",
       "      <td>23.522574</td>\n",
       "      <td>0.0</td>\n",
       "      <td>0.0</td>\n",
       "      <td>0.0</td>\n",
       "      <td>0.0</td>\n",
       "      <td>0.0</td>\n",
       "      <td>0.0</td>\n",
       "      <td>0.0</td>\n",
       "      <td>0.0</td>\n",
       "    </tr>\n",
       "    <tr>\n",
       "      <th>std</th>\n",
       "      <td>5.005191</td>\n",
       "      <td>3.107724</td>\n",
       "      <td>1.284451</td>\n",
       "      <td>1.443720</td>\n",
       "      <td>0.885680</td>\n",
       "      <td>0.136595</td>\n",
       "      <td>10.165106</td>\n",
       "      <td>14.654889</td>\n",
       "      <td>5.418233</td>\n",
       "      <td>236.351404</td>\n",
       "      <td>...</td>\n",
       "      <td>1.177468</td>\n",
       "      <td>1.356586</td>\n",
       "      <td>0.0</td>\n",
       "      <td>0.0</td>\n",
       "      <td>0.0</td>\n",
       "      <td>0.0</td>\n",
       "      <td>0.0</td>\n",
       "      <td>0.0</td>\n",
       "      <td>0.0</td>\n",
       "      <td>0.0</td>\n",
       "    </tr>\n",
       "    <tr>\n",
       "      <th>min</th>\n",
       "      <td>2.000000</td>\n",
       "      <td>1.050000</td>\n",
       "      <td>0.930000</td>\n",
       "      <td>10.920000</td>\n",
       "      <td>58.840000</td>\n",
       "      <td>5.160000</td>\n",
       "      <td>11.100000</td>\n",
       "      <td>0.000000</td>\n",
       "      <td>53.549999</td>\n",
       "      <td>4.630000</td>\n",
       "      <td>...</td>\n",
       "      <td>0.000000</td>\n",
       "      <td>0.000000</td>\n",
       "      <td>0.0</td>\n",
       "      <td>0.0</td>\n",
       "      <td>0.0</td>\n",
       "      <td>0.0</td>\n",
       "      <td>0.0</td>\n",
       "      <td>0.0</td>\n",
       "      <td>0.0</td>\n",
       "      <td>0.0</td>\n",
       "    </tr>\n",
       "    <tr>\n",
       "      <th>25%</th>\n",
       "      <td>9.000000</td>\n",
       "      <td>9.520000</td>\n",
       "      <td>4.400000</td>\n",
       "      <td>16.580000</td>\n",
       "      <td>59.520000</td>\n",
       "      <td>7.110000</td>\n",
       "      <td>653.429993</td>\n",
       "      <td>0.000000</td>\n",
       "      <td>68.250000</td>\n",
       "      <td>647.989990</td>\n",
       "      <td>...</td>\n",
       "      <td>21.400000</td>\n",
       "      <td>22.700001</td>\n",
       "      <td>0.0</td>\n",
       "      <td>0.0</td>\n",
       "      <td>0.0</td>\n",
       "      <td>0.0</td>\n",
       "      <td>0.0</td>\n",
       "      <td>0.0</td>\n",
       "      <td>0.0</td>\n",
       "      <td>0.0</td>\n",
       "    </tr>\n",
       "    <tr>\n",
       "      <th>50%</th>\n",
       "      <td>10.000000</td>\n",
       "      <td>9.560000</td>\n",
       "      <td>4.440000</td>\n",
       "      <td>16.799999</td>\n",
       "      <td>59.520000</td>\n",
       "      <td>7.120000</td>\n",
       "      <td>653.440002</td>\n",
       "      <td>0.000000</td>\n",
       "      <td>68.339996</td>\n",
       "      <td>647.989990</td>\n",
       "      <td>...</td>\n",
       "      <td>22.000000</td>\n",
       "      <td>23.400000</td>\n",
       "      <td>0.0</td>\n",
       "      <td>0.0</td>\n",
       "      <td>0.0</td>\n",
       "      <td>0.0</td>\n",
       "      <td>0.0</td>\n",
       "      <td>0.0</td>\n",
       "      <td>0.0</td>\n",
       "      <td>0.0</td>\n",
       "    </tr>\n",
       "    <tr>\n",
       "      <th>75%</th>\n",
       "      <td>13.000000</td>\n",
       "      <td>9.590000</td>\n",
       "      <td>4.470000</td>\n",
       "      <td>16.889999</td>\n",
       "      <td>59.560001</td>\n",
       "      <td>7.120000</td>\n",
       "      <td>653.450012</td>\n",
       "      <td>0.000000</td>\n",
       "      <td>68.489998</td>\n",
       "      <td>647.989990</td>\n",
       "      <td>...</td>\n",
       "      <td>22.900000</td>\n",
       "      <td>24.200001</td>\n",
       "      <td>0.0</td>\n",
       "      <td>0.0</td>\n",
       "      <td>0.0</td>\n",
       "      <td>0.0</td>\n",
       "      <td>0.0</td>\n",
       "      <td>0.0</td>\n",
       "      <td>0.0</td>\n",
       "      <td>0.0</td>\n",
       "    </tr>\n",
       "    <tr>\n",
       "      <th>max</th>\n",
       "      <td>24.000000</td>\n",
       "      <td>16.309999</td>\n",
       "      <td>8.270000</td>\n",
       "      <td>21.120001</td>\n",
       "      <td>66.860001</td>\n",
       "      <td>7.180000</td>\n",
       "      <td>655.080017</td>\n",
       "      <td>655.309998</td>\n",
       "      <td>68.860001</td>\n",
       "      <td>883.700012</td>\n",
       "      <td>...</td>\n",
       "      <td>25.299999</td>\n",
       "      <td>27.799999</td>\n",
       "      <td>0.0</td>\n",
       "      <td>0.0</td>\n",
       "      <td>0.0</td>\n",
       "      <td>0.0</td>\n",
       "      <td>0.0</td>\n",
       "      <td>0.0</td>\n",
       "      <td>0.0</td>\n",
       "      <td>0.0</td>\n",
       "    </tr>\n",
       "  </tbody>\n",
       "</table>\n",
       "<p>8 rows × 37 columns</p>\n",
       "</div>"
      ],
      "text/plain": [
       "       PART_FACT_SERIAL  Injection_Time  Filling_Time  Plasticizing_Time  \\\n",
       "count       7996.000000     7996.000000   7996.000000        7996.000000   \n",
       "mean          11.248749        8.242189      3.896309          16.209505   \n",
       "std            5.005191        3.107724      1.284451           1.443720   \n",
       "min            2.000000        1.050000      0.930000          10.920000   \n",
       "25%            9.000000        9.520000      4.400000          16.580000   \n",
       "50%           10.000000        9.560000      4.440000          16.799999   \n",
       "75%           13.000000        9.590000      4.470000          16.889999   \n",
       "max           24.000000       16.309999      8.270000          21.120001   \n",
       "\n",
       "        Cycle_Time  Clamp_Close_Time  Cushion_Position  Switch_Over_Position  \\\n",
       "count  7996.000000       7996.000000       7996.000000           7996.000000   \n",
       "mean     59.900902          7.064088        653.408195              0.330320   \n",
       "std       0.885680          0.136595         10.165106             14.654889   \n",
       "min      58.840000          5.160000         11.100000              0.000000   \n",
       "25%      59.520000          7.110000        653.429993              0.000000   \n",
       "50%      59.520000          7.120000        653.440002              0.000000   \n",
       "75%      59.560001          7.120000        653.450012              0.000000   \n",
       "max      66.860001          7.180000        655.080017            655.309998   \n",
       "\n",
       "       Plasticizing_Position  Clamp_Open_Position  ...  Mold_Temperature_3  \\\n",
       "count            7996.000000          7996.000000  ...         7996.000000   \n",
       "mean               66.054484           544.244111  ...           22.145260   \n",
       "std                 5.418233           236.351404  ...            1.177468   \n",
       "min                53.549999             4.630000  ...            0.000000   \n",
       "25%                68.250000           647.989990  ...           21.400000   \n",
       "50%                68.339996           647.989990  ...           22.000000   \n",
       "75%                68.489998           647.989990  ...           22.900000   \n",
       "max                68.860001           883.700012  ...           25.299999   \n",
       "\n",
       "       Mold_Temperature_4  Mold_Temperature_5  Mold_Temperature_6  \\\n",
       "count         7996.000000              7996.0              7996.0   \n",
       "mean            23.522574                 0.0                 0.0   \n",
       "std              1.356586                 0.0                 0.0   \n",
       "min              0.000000                 0.0                 0.0   \n",
       "25%             22.700001                 0.0                 0.0   \n",
       "50%             23.400000                 0.0                 0.0   \n",
       "75%             24.200001                 0.0                 0.0   \n",
       "max             27.799999                 0.0                 0.0   \n",
       "\n",
       "       Mold_Temperature_7  Mold_Temperature_8  Mold_Temperature_9  \\\n",
       "count              7996.0              7996.0              7996.0   \n",
       "mean                  0.0                 0.0                 0.0   \n",
       "std                   0.0                 0.0                 0.0   \n",
       "min                   0.0                 0.0                 0.0   \n",
       "25%                   0.0                 0.0                 0.0   \n",
       "50%                   0.0                 0.0                 0.0   \n",
       "75%                   0.0                 0.0                 0.0   \n",
       "max                   0.0                 0.0                 0.0   \n",
       "\n",
       "       Mold_Temperature_10  Mold_Temperature_11  Mold_Temperature_12  \n",
       "count               7996.0               7996.0               7996.0  \n",
       "mean                   0.0                  0.0                  0.0  \n",
       "std                    0.0                  0.0                  0.0  \n",
       "min                    0.0                  0.0                  0.0  \n",
       "25%                    0.0                  0.0                  0.0  \n",
       "50%                    0.0                  0.0                  0.0  \n",
       "75%                    0.0                  0.0                  0.0  \n",
       "max                    0.0                  0.0                  0.0  \n",
       "\n",
       "[8 rows x 37 columns]"
      ]
     },
     "execution_count": 172,
     "metadata": {},
     "output_type": "execute_result"
    }
   ],
   "source": [
    "label_data.describe()"
   ]
  },
  {
   "cell_type": "markdown",
   "metadata": {},
   "source": [
    "* column개수 확인"
   ]
  },
  {
   "cell_type": "code",
   "execution_count": 173,
   "metadata": {},
   "outputs": [
    {
     "data": {
      "text/plain": [
       "45"
      ]
     },
     "execution_count": 173,
     "metadata": {},
     "output_type": "execute_result"
    }
   ],
   "source": [
    "len(label_data.columns)"
   ]
  },
  {
   "cell_type": "markdown",
   "metadata": {},
   "source": [
    "* 결측치 확인"
   ]
  },
  {
   "cell_type": "code",
   "execution_count": 174,
   "metadata": {},
   "outputs": [
    {
     "data": {
      "text/plain": [
       "_id                         0\n",
       "TimeStamp                   0\n",
       "PART_FACT_PLAN_DATE         0\n",
       "PART_FACT_SERIAL            0\n",
       "PART_NAME                   0\n",
       "EQUIP_CD                    0\n",
       "EQUIP_NAME                  0\n",
       "PassOrFail                  0\n",
       "Reason                      0\n",
       "Injection_Time              0\n",
       "Filling_Time                0\n",
       "Plasticizing_Time           0\n",
       "Cycle_Time                  0\n",
       "Clamp_Close_Time            0\n",
       "Cushion_Position            0\n",
       "Switch_Over_Position        0\n",
       "Plasticizing_Position       0\n",
       "Clamp_Open_Position         0\n",
       "Max_Injection_Speed         0\n",
       "Max_Screw_RPM               0\n",
       "Average_Screw_RPM           0\n",
       "Max_Injection_Pressure      0\n",
       "Max_Switch_Over_Pressure    0\n",
       "Max_Back_Pressure           0\n",
       "Average_Back_Pressure       0\n",
       "Barrel_Temperature_1        0\n",
       "Barrel_Temperature_2        0\n",
       "Barrel_Temperature_3        0\n",
       "Barrel_Temperature_4        0\n",
       "Barrel_Temperature_5        0\n",
       "Barrel_Temperature_6        0\n",
       "Barrel_Temperature_7        0\n",
       "Hopper_Temperature          0\n",
       "Mold_Temperature_1          0\n",
       "Mold_Temperature_2          0\n",
       "Mold_Temperature_3          0\n",
       "Mold_Temperature_4          0\n",
       "Mold_Temperature_5          0\n",
       "Mold_Temperature_6          0\n",
       "Mold_Temperature_7          0\n",
       "Mold_Temperature_8          0\n",
       "Mold_Temperature_9          0\n",
       "Mold_Temperature_10         0\n",
       "Mold_Temperature_11         0\n",
       "Mold_Temperature_12         0\n",
       "dtype: int64"
      ]
     },
     "execution_count": 174,
     "metadata": {},
     "output_type": "execute_result"
    }
   ],
   "source": [
    "label_data.isnull().sum()"
   ]
  },
  {
   "cell_type": "markdown",
   "metadata": {},
   "source": [
    "## 3. 전처리\n",
    "- 필요없는 feature 제거"
   ]
  },
  {
   "cell_type": "code",
   "execution_count": 175,
   "metadata": {},
   "outputs": [],
   "source": [
    "def make_input(data, machine_name ,product_name):\n",
    "    machine_ = data['EQUIP_NAME'] == machine_name\n",
    "    product_ = data['PART_NAME'] == product_name\n",
    "    data = data[machine_ & product_]\n",
    "    \n",
    "    # 불필요한 categorical 데이터 삭제\n",
    "    data.drop([\n",
    "               '_id','TimeStamp','PART_FACT_PLAN_DATE', 'Reason',\n",
    "               \n",
    "               'PART_FACT_SERIAL','PART_NAME','EQUIP_CD', 'EQUIP_NAME',\n",
    "               # 의미 없는 온도 데이터 제거\n",
    "               'Mold_Temperature_1', 'Mold_Temperature_2', 'Mold_Temperature_5', 'Mold_Temperature_6', 'Mold_Temperature_7', 'Mold_Temperature_8', 'Mold_Temperature_9', 'Mold_Temperature_10', 'Mold_Temperature_11', 'Mold_Temperature_12'], \n",
    "              axis=1, inplace=True)\n",
    "    return data"
   ]
  },
  {
   "cell_type": "markdown",
   "metadata": {},
   "source": [
    "* cn7, rg3 분리 - cn7 데이터를 분석"
   ]
  },
  {
   "cell_type": "code",
   "execution_count": 176,
   "metadata": {},
   "outputs": [
    {
     "name": "stderr",
     "output_type": "stream",
     "text": [
      "C:\\Users\\pc\\anaconda3\\lib\\site-packages\\pandas\\core\\frame.py:4167: SettingWithCopyWarning: \n",
      "A value is trying to be set on a copy of a slice from a DataFrame\n",
      "\n",
      "See the caveats in the documentation: https://pandas.pydata.org/pandas-docs/stable/user_guide/indexing.html#returning-a-view-versus-a-copy\n",
      "  errors=errors,\n"
     ]
    }
   ],
   "source": [
    "machine_name = \"650톤-우진2호기\"\n",
    "product_name = [\"CN7 W/S SIDE MLD'G LH\", \"CN7 W/S SIDE MLD'G RH\", \"RG3 MOLD'G W/SHLD, LH\", \"RG3 MOLD'G W/SHLD, RH\"]\n",
    "\n",
    "\n",
    "cn7lh = make_input(label_data, machine_name, product_name[0])\n",
    "\n",
    "cn7rh = make_input(label_data, machine_name, product_name[1])\n",
    "\n",
    "rg3lh = make_input(label_data, machine_name, product_name[2])\n",
    "\n",
    "rg3rh = make_input(label_data, machine_name, product_name[3])\n",
    "\n",
    "# \n",
    "cn7 = pd.concat([cn7lh, cn7rh], ignore_index=True)\n",
    "rg3 = pd.concat([rg3lh, rg3rh], ignore_index=True)"
   ]
  },
  {
   "cell_type": "markdown",
   "metadata": {},
   "source": [
    "* class 제거"
   ]
  },
  {
   "cell_type": "code",
   "execution_count": 177,
   "metadata": {},
   "outputs": [
    {
     "data": {
      "text/plain": [
       "Y    6697\n",
       "N      39\n",
       "Name: PassOrFail, dtype: int64"
      ]
     },
     "execution_count": 177,
     "metadata": {},
     "output_type": "execute_result"
    }
   ],
   "source": [
    "cn7['PassOrFail'].value_counts()"
   ]
  },
  {
   "cell_type": "markdown",
   "metadata": {},
   "source": [
    "- 양품(Y)은 0으로, 불량(N)은 1로 바꾸기"
   ]
  },
  {
   "cell_type": "code",
   "execution_count": 178,
   "metadata": {},
   "outputs": [],
   "source": [
    "cn7['PassOrFail'] = cn7['PassOrFail'].replace('Y', 0).replace('N', 1)"
   ]
  },
  {
   "cell_type": "code",
   "execution_count": 179,
   "metadata": {},
   "outputs": [],
   "source": [
    "#PassOrFail int로 바꿔주기\n",
    "cn7['PassOrFail'] = cn7['PassOrFail'].map({0:int(0), 1:int(1)})"
   ]
  },
  {
   "cell_type": "code",
   "execution_count": 180,
   "metadata": {},
   "outputs": [
    {
     "name": "stdout",
     "output_type": "stream",
     "text": [
      "CN7의 양품 개수: 6697\n",
      "CN7의 불량 개수: 39\n"
     ]
    }
   ],
   "source": [
    "#양품 불량품 개수 \n",
    "# 양품\n",
    "cn7_Y = cn7[cn7['PassOrFail']==0]\n",
    "print('CN7의 양품 개수:', len(cn7_Y))\n",
    "\n",
    "# 불량\n",
    "cn7_N = cn7[cn7['PassOrFail']==1]\n",
    "print('CN7의 불량 개수:', len(cn7_N))"
   ]
  },
  {
   "cell_type": "code",
   "execution_count": 181,
   "metadata": {},
   "outputs": [
    {
     "name": "stderr",
     "output_type": "stream",
     "text": [
      "C:\\Users\\pc\\anaconda3\\lib\\site-packages\\pandas\\core\\frame.py:4167: SettingWithCopyWarning: \n",
      "A value is trying to be set on a copy of a slice from a DataFrame\n",
      "\n",
      "See the caveats in the documentation: https://pandas.pydata.org/pandas-docs/stable/user_guide/indexing.html#returning-a-view-versus-a-copy\n",
      "  errors=errors,\n"
     ]
    }
   ],
   "source": [
    "# 양품\n",
    "cn7_Y.drop(['PassOrFail'] ,axis=1, inplace=True)\n",
    "\n",
    "# 불량\n",
    "cn7_N.drop(['PassOrFail'] ,axis=1, inplace=True)"
   ]
  },
  {
   "cell_type": "code",
   "execution_count": 182,
   "metadata": {},
   "outputs": [],
   "source": [
    "columns = cn7_Y.columns"
   ]
  },
  {
   "cell_type": "markdown",
   "metadata": {},
   "source": [
    "* scaling\n",
    "> 성능저하로 사용하지않음"
   ]
  },
  {
   "cell_type": "code",
   "execution_count": 183,
   "metadata": {},
   "outputs": [],
   "source": [
    "#scaler = MinMaxScaler()\n",
    "\n",
    "## 양품\n",
    "#cn7_Y = scaler.fit_transform(cn7_Y)\n",
    "\n",
    "## 불량\n",
    "#cn7_N = scaler.fit_transform(cn7_N)"
   ]
  },
  {
   "cell_type": "code",
   "execution_count": 184,
   "metadata": {},
   "outputs": [
    {
     "data": {
      "text/html": [
       "<div>\n",
       "<style scoped>\n",
       "    .dataframe tbody tr th:only-of-type {\n",
       "        vertical-align: middle;\n",
       "    }\n",
       "\n",
       "    .dataframe tbody tr th {\n",
       "        vertical-align: top;\n",
       "    }\n",
       "\n",
       "    .dataframe thead th {\n",
       "        text-align: right;\n",
       "    }\n",
       "</style>\n",
       "<table border=\"1\" class=\"dataframe\">\n",
       "  <thead>\n",
       "    <tr style=\"text-align: right;\">\n",
       "      <th></th>\n",
       "      <th>Injection_Time</th>\n",
       "      <th>Filling_Time</th>\n",
       "      <th>Plasticizing_Time</th>\n",
       "      <th>Cycle_Time</th>\n",
       "      <th>Clamp_Close_Time</th>\n",
       "      <th>Cushion_Position</th>\n",
       "      <th>Switch_Over_Position</th>\n",
       "      <th>Plasticizing_Position</th>\n",
       "      <th>Clamp_Open_Position</th>\n",
       "      <th>Max_Injection_Speed</th>\n",
       "      <th>...</th>\n",
       "      <th>Barrel_Temperature_1</th>\n",
       "      <th>Barrel_Temperature_2</th>\n",
       "      <th>Barrel_Temperature_3</th>\n",
       "      <th>Barrel_Temperature_4</th>\n",
       "      <th>Barrel_Temperature_5</th>\n",
       "      <th>Barrel_Temperature_6</th>\n",
       "      <th>Barrel_Temperature_7</th>\n",
       "      <th>Hopper_Temperature</th>\n",
       "      <th>Mold_Temperature_3</th>\n",
       "      <th>Mold_Temperature_4</th>\n",
       "    </tr>\n",
       "  </thead>\n",
       "  <tbody>\n",
       "    <tr>\n",
       "      <th>0</th>\n",
       "      <td>9.60</td>\n",
       "      <td>4.48</td>\n",
       "      <td>16.91</td>\n",
       "      <td>59.580002</td>\n",
       "      <td>7.13</td>\n",
       "      <td>653.409973</td>\n",
       "      <td>0.0</td>\n",
       "      <td>68.839996</td>\n",
       "      <td>647.98999</td>\n",
       "      <td>55.299999</td>\n",
       "      <td>...</td>\n",
       "      <td>276.200012</td>\n",
       "      <td>275.500000</td>\n",
       "      <td>275.299988</td>\n",
       "      <td>270.799988</td>\n",
       "      <td>254.699997</td>\n",
       "      <td>229.500000</td>\n",
       "      <td>0.0</td>\n",
       "      <td>67.199997</td>\n",
       "      <td>24.799999</td>\n",
       "      <td>27.6</td>\n",
       "    </tr>\n",
       "    <tr>\n",
       "      <th>1</th>\n",
       "      <td>9.59</td>\n",
       "      <td>4.48</td>\n",
       "      <td>16.91</td>\n",
       "      <td>59.560001</td>\n",
       "      <td>7.13</td>\n",
       "      <td>653.419983</td>\n",
       "      <td>0.0</td>\n",
       "      <td>68.839996</td>\n",
       "      <td>647.98999</td>\n",
       "      <td>55.299999</td>\n",
       "      <td>...</td>\n",
       "      <td>276.500000</td>\n",
       "      <td>275.000000</td>\n",
       "      <td>275.399994</td>\n",
       "      <td>271.100006</td>\n",
       "      <td>254.899994</td>\n",
       "      <td>230.000000</td>\n",
       "      <td>0.0</td>\n",
       "      <td>66.900002</td>\n",
       "      <td>25.000000</td>\n",
       "      <td>27.6</td>\n",
       "    </tr>\n",
       "    <tr>\n",
       "      <th>2</th>\n",
       "      <td>9.58</td>\n",
       "      <td>4.46</td>\n",
       "      <td>16.90</td>\n",
       "      <td>59.580002</td>\n",
       "      <td>7.13</td>\n",
       "      <td>653.409973</td>\n",
       "      <td>0.0</td>\n",
       "      <td>68.839996</td>\n",
       "      <td>647.98999</td>\n",
       "      <td>55.599998</td>\n",
       "      <td>...</td>\n",
       "      <td>276.299988</td>\n",
       "      <td>275.299988</td>\n",
       "      <td>275.200012</td>\n",
       "      <td>271.399994</td>\n",
       "      <td>255.000000</td>\n",
       "      <td>230.000000</td>\n",
       "      <td>0.0</td>\n",
       "      <td>67.500000</td>\n",
       "      <td>25.000000</td>\n",
       "      <td>27.6</td>\n",
       "    </tr>\n",
       "    <tr>\n",
       "      <th>3</th>\n",
       "      <td>9.58</td>\n",
       "      <td>4.46</td>\n",
       "      <td>16.92</td>\n",
       "      <td>59.560001</td>\n",
       "      <td>7.13</td>\n",
       "      <td>653.409973</td>\n",
       "      <td>0.0</td>\n",
       "      <td>68.849998</td>\n",
       "      <td>647.98999</td>\n",
       "      <td>55.500000</td>\n",
       "      <td>...</td>\n",
       "      <td>275.799988</td>\n",
       "      <td>275.399994</td>\n",
       "      <td>275.000000</td>\n",
       "      <td>271.299988</td>\n",
       "      <td>255.000000</td>\n",
       "      <td>230.000000</td>\n",
       "      <td>0.0</td>\n",
       "      <td>67.000000</td>\n",
       "      <td>25.000000</td>\n",
       "      <td>27.6</td>\n",
       "    </tr>\n",
       "    <tr>\n",
       "      <th>4</th>\n",
       "      <td>9.57</td>\n",
       "      <td>4.45</td>\n",
       "      <td>16.91</td>\n",
       "      <td>59.520000</td>\n",
       "      <td>7.14</td>\n",
       "      <td>653.409973</td>\n",
       "      <td>0.0</td>\n",
       "      <td>68.830002</td>\n",
       "      <td>647.98999</td>\n",
       "      <td>55.700001</td>\n",
       "      <td>...</td>\n",
       "      <td>275.700012</td>\n",
       "      <td>274.899994</td>\n",
       "      <td>274.799988</td>\n",
       "      <td>270.799988</td>\n",
       "      <td>255.399994</td>\n",
       "      <td>230.100006</td>\n",
       "      <td>0.0</td>\n",
       "      <td>66.699997</td>\n",
       "      <td>24.799999</td>\n",
       "      <td>27.5</td>\n",
       "    </tr>\n",
       "  </tbody>\n",
       "</table>\n",
       "<p>5 rows × 26 columns</p>\n",
       "</div>"
      ],
      "text/plain": [
       "   Injection_Time  Filling_Time  Plasticizing_Time  Cycle_Time  \\\n",
       "0            9.60          4.48              16.91   59.580002   \n",
       "1            9.59          4.48              16.91   59.560001   \n",
       "2            9.58          4.46              16.90   59.580002   \n",
       "3            9.58          4.46              16.92   59.560001   \n",
       "4            9.57          4.45              16.91   59.520000   \n",
       "\n",
       "   Clamp_Close_Time  Cushion_Position  Switch_Over_Position  \\\n",
       "0              7.13        653.409973                   0.0   \n",
       "1              7.13        653.419983                   0.0   \n",
       "2              7.13        653.409973                   0.0   \n",
       "3              7.13        653.409973                   0.0   \n",
       "4              7.14        653.409973                   0.0   \n",
       "\n",
       "   Plasticizing_Position  Clamp_Open_Position  Max_Injection_Speed  ...  \\\n",
       "0              68.839996            647.98999            55.299999  ...   \n",
       "1              68.839996            647.98999            55.299999  ...   \n",
       "2              68.839996            647.98999            55.599998  ...   \n",
       "3              68.849998            647.98999            55.500000  ...   \n",
       "4              68.830002            647.98999            55.700001  ...   \n",
       "\n",
       "   Barrel_Temperature_1  Barrel_Temperature_2  Barrel_Temperature_3  \\\n",
       "0            276.200012            275.500000            275.299988   \n",
       "1            276.500000            275.000000            275.399994   \n",
       "2            276.299988            275.299988            275.200012   \n",
       "3            275.799988            275.399994            275.000000   \n",
       "4            275.700012            274.899994            274.799988   \n",
       "\n",
       "   Barrel_Temperature_4  Barrel_Temperature_5  Barrel_Temperature_6  \\\n",
       "0            270.799988            254.699997            229.500000   \n",
       "1            271.100006            254.899994            230.000000   \n",
       "2            271.399994            255.000000            230.000000   \n",
       "3            271.299988            255.000000            230.000000   \n",
       "4            270.799988            255.399994            230.100006   \n",
       "\n",
       "   Barrel_Temperature_7  Hopper_Temperature  Mold_Temperature_3  \\\n",
       "0                   0.0           67.199997           24.799999   \n",
       "1                   0.0           66.900002           25.000000   \n",
       "2                   0.0           67.500000           25.000000   \n",
       "3                   0.0           67.000000           25.000000   \n",
       "4                   0.0           66.699997           24.799999   \n",
       "\n",
       "   Mold_Temperature_4  \n",
       "0                27.6  \n",
       "1                27.6  \n",
       "2                27.6  \n",
       "3                27.6  \n",
       "4                27.5  \n",
       "\n",
       "[5 rows x 26 columns]"
      ]
     },
     "execution_count": 184,
     "metadata": {},
     "output_type": "execute_result"
    }
   ],
   "source": [
    "cn7_Y = pd.DataFrame(cn7_Y)\n",
    "cn7_Y.columns = columns\n",
    "cn7_Y.head()"
   ]
  },
  {
   "cell_type": "markdown",
   "metadata": {},
   "source": [
    "* 각 칼럼의 데이터 통계량확인"
   ]
  },
  {
   "cell_type": "code",
   "execution_count": 185,
   "metadata": {},
   "outputs": [
    {
     "data": {
      "text/html": [
       "<div>\n",
       "<style scoped>\n",
       "    .dataframe tbody tr th:only-of-type {\n",
       "        vertical-align: middle;\n",
       "    }\n",
       "\n",
       "    .dataframe tbody tr th {\n",
       "        vertical-align: top;\n",
       "    }\n",
       "\n",
       "    .dataframe thead th {\n",
       "        text-align: right;\n",
       "    }\n",
       "</style>\n",
       "<table border=\"1\" class=\"dataframe\">\n",
       "  <thead>\n",
       "    <tr style=\"text-align: right;\">\n",
       "      <th></th>\n",
       "      <th>Injection_Time</th>\n",
       "      <th>Filling_Time</th>\n",
       "      <th>Plasticizing_Time</th>\n",
       "      <th>Cycle_Time</th>\n",
       "      <th>Clamp_Close_Time</th>\n",
       "      <th>Cushion_Position</th>\n",
       "      <th>Switch_Over_Position</th>\n",
       "      <th>Plasticizing_Position</th>\n",
       "      <th>Clamp_Open_Position</th>\n",
       "      <th>Max_Injection_Speed</th>\n",
       "      <th>...</th>\n",
       "      <th>Barrel_Temperature_1</th>\n",
       "      <th>Barrel_Temperature_2</th>\n",
       "      <th>Barrel_Temperature_3</th>\n",
       "      <th>Barrel_Temperature_4</th>\n",
       "      <th>Barrel_Temperature_5</th>\n",
       "      <th>Barrel_Temperature_6</th>\n",
       "      <th>Barrel_Temperature_7</th>\n",
       "      <th>Hopper_Temperature</th>\n",
       "      <th>Mold_Temperature_3</th>\n",
       "      <th>Mold_Temperature_4</th>\n",
       "    </tr>\n",
       "  </thead>\n",
       "  <tbody>\n",
       "    <tr>\n",
       "      <th>count</th>\n",
       "      <td>6697.000000</td>\n",
       "      <td>6697.000000</td>\n",
       "      <td>6697.000000</td>\n",
       "      <td>6697.000000</td>\n",
       "      <td>6697.000000</td>\n",
       "      <td>6697.000000</td>\n",
       "      <td>6697.0</td>\n",
       "      <td>6697.000000</td>\n",
       "      <td>6697.000000</td>\n",
       "      <td>6697.000000</td>\n",
       "      <td>...</td>\n",
       "      <td>6697.000000</td>\n",
       "      <td>6697.000000</td>\n",
       "      <td>6697.000000</td>\n",
       "      <td>6697.000000</td>\n",
       "      <td>6697.000000</td>\n",
       "      <td>6697.000000</td>\n",
       "      <td>6697.0</td>\n",
       "      <td>6697.000000</td>\n",
       "      <td>6697.000000</td>\n",
       "      <td>6697.000000</td>\n",
       "    </tr>\n",
       "    <tr>\n",
       "      <th>mean</th>\n",
       "      <td>9.575707</td>\n",
       "      <td>4.443976</td>\n",
       "      <td>16.820754</td>\n",
       "      <td>59.545866</td>\n",
       "      <td>7.113505</td>\n",
       "      <td>653.440885</td>\n",
       "      <td>0.0</td>\n",
       "      <td>68.380147</td>\n",
       "      <td>644.881046</td>\n",
       "      <td>55.545916</td>\n",
       "      <td>...</td>\n",
       "      <td>275.964312</td>\n",
       "      <td>275.134627</td>\n",
       "      <td>274.856219</td>\n",
       "      <td>270.283709</td>\n",
       "      <td>254.923025</td>\n",
       "      <td>229.972063</td>\n",
       "      <td>0.0</td>\n",
       "      <td>66.668374</td>\n",
       "      <td>22.071106</td>\n",
       "      <td>23.467717</td>\n",
       "    </tr>\n",
       "    <tr>\n",
       "      <th>std</th>\n",
       "      <td>0.144417</td>\n",
       "      <td>0.088029</td>\n",
       "      <td>0.289453</td>\n",
       "      <td>0.359481</td>\n",
       "      <td>0.076023</td>\n",
       "      <td>0.115223</td>\n",
       "      <td>0.0</td>\n",
       "      <td>0.649670</td>\n",
       "      <td>42.292546</td>\n",
       "      <td>0.816338</td>\n",
       "      <td>...</td>\n",
       "      <td>2.308616</td>\n",
       "      <td>1.892702</td>\n",
       "      <td>1.859355</td>\n",
       "      <td>2.022469</td>\n",
       "      <td>1.137456</td>\n",
       "      <td>0.429415</td>\n",
       "      <td>0.0</td>\n",
       "      <td>2.437105</td>\n",
       "      <td>1.162081</td>\n",
       "      <td>1.355500</td>\n",
       "    </tr>\n",
       "    <tr>\n",
       "      <th>min</th>\n",
       "      <td>9.360000</td>\n",
       "      <td>3.350000</td>\n",
       "      <td>16.520000</td>\n",
       "      <td>58.840000</td>\n",
       "      <td>6.070000</td>\n",
       "      <td>653.409973</td>\n",
       "      <td>0.0</td>\n",
       "      <td>59.759998</td>\n",
       "      <td>69.639999</td>\n",
       "      <td>49.299999</td>\n",
       "      <td>...</td>\n",
       "      <td>244.699997</td>\n",
       "      <td>249.000000</td>\n",
       "      <td>249.600006</td>\n",
       "      <td>244.399994</td>\n",
       "      <td>239.699997</td>\n",
       "      <td>224.600006</td>\n",
       "      <td>0.0</td>\n",
       "      <td>38.500000</td>\n",
       "      <td>19.100000</td>\n",
       "      <td>20.600000</td>\n",
       "    </tr>\n",
       "    <tr>\n",
       "      <th>25%</th>\n",
       "      <td>9.530000</td>\n",
       "      <td>4.420000</td>\n",
       "      <td>16.629999</td>\n",
       "      <td>59.480000</td>\n",
       "      <td>7.120000</td>\n",
       "      <td>653.429993</td>\n",
       "      <td>0.0</td>\n",
       "      <td>68.320000</td>\n",
       "      <td>647.989990</td>\n",
       "      <td>55.099998</td>\n",
       "      <td>...</td>\n",
       "      <td>275.799988</td>\n",
       "      <td>275.000000</td>\n",
       "      <td>274.799988</td>\n",
       "      <td>269.700012</td>\n",
       "      <td>254.800003</td>\n",
       "      <td>229.800003</td>\n",
       "      <td>0.0</td>\n",
       "      <td>65.599998</td>\n",
       "      <td>21.200001</td>\n",
       "      <td>22.600000</td>\n",
       "    </tr>\n",
       "    <tr>\n",
       "      <th>50%</th>\n",
       "      <td>9.570000</td>\n",
       "      <td>4.450000</td>\n",
       "      <td>16.820000</td>\n",
       "      <td>59.520000</td>\n",
       "      <td>7.120000</td>\n",
       "      <td>653.429993</td>\n",
       "      <td>0.0</td>\n",
       "      <td>68.360001</td>\n",
       "      <td>647.989990</td>\n",
       "      <td>55.400002</td>\n",
       "      <td>...</td>\n",
       "      <td>276.100006</td>\n",
       "      <td>275.299988</td>\n",
       "      <td>275.000000</td>\n",
       "      <td>270.399994</td>\n",
       "      <td>255.000000</td>\n",
       "      <td>230.000000</td>\n",
       "      <td>0.0</td>\n",
       "      <td>67.000000</td>\n",
       "      <td>21.900000</td>\n",
       "      <td>23.299999</td>\n",
       "    </tr>\n",
       "    <tr>\n",
       "      <th>75%</th>\n",
       "      <td>9.600000</td>\n",
       "      <td>4.480000</td>\n",
       "      <td>16.910000</td>\n",
       "      <td>59.540001</td>\n",
       "      <td>7.120000</td>\n",
       "      <td>653.440002</td>\n",
       "      <td>0.0</td>\n",
       "      <td>68.510002</td>\n",
       "      <td>647.989990</td>\n",
       "      <td>55.900002</td>\n",
       "      <td>...</td>\n",
       "      <td>276.399994</td>\n",
       "      <td>275.500000</td>\n",
       "      <td>275.100006</td>\n",
       "      <td>271.100006</td>\n",
       "      <td>255.199997</td>\n",
       "      <td>230.100006</td>\n",
       "      <td>0.0</td>\n",
       "      <td>67.800003</td>\n",
       "      <td>22.799999</td>\n",
       "      <td>24.200001</td>\n",
       "    </tr>\n",
       "    <tr>\n",
       "      <th>max</th>\n",
       "      <td>11.480000</td>\n",
       "      <td>4.820000</td>\n",
       "      <td>21.100000</td>\n",
       "      <td>64.349998</td>\n",
       "      <td>7.140000</td>\n",
       "      <td>655.000000</td>\n",
       "      <td>0.0</td>\n",
       "      <td>68.860001</td>\n",
       "      <td>647.989990</td>\n",
       "      <td>64.800003</td>\n",
       "      <td>...</td>\n",
       "      <td>277.899994</td>\n",
       "      <td>276.500000</td>\n",
       "      <td>276.000000</td>\n",
       "      <td>272.399994</td>\n",
       "      <td>256.299988</td>\n",
       "      <td>230.699997</td>\n",
       "      <td>0.0</td>\n",
       "      <td>70.599998</td>\n",
       "      <td>25.299999</td>\n",
       "      <td>27.799999</td>\n",
       "    </tr>\n",
       "  </tbody>\n",
       "</table>\n",
       "<p>8 rows × 26 columns</p>\n",
       "</div>"
      ],
      "text/plain": [
       "       Injection_Time  Filling_Time  Plasticizing_Time   Cycle_Time  \\\n",
       "count     6697.000000   6697.000000        6697.000000  6697.000000   \n",
       "mean         9.575707      4.443976          16.820754    59.545866   \n",
       "std          0.144417      0.088029           0.289453     0.359481   \n",
       "min          9.360000      3.350000          16.520000    58.840000   \n",
       "25%          9.530000      4.420000          16.629999    59.480000   \n",
       "50%          9.570000      4.450000          16.820000    59.520000   \n",
       "75%          9.600000      4.480000          16.910000    59.540001   \n",
       "max         11.480000      4.820000          21.100000    64.349998   \n",
       "\n",
       "       Clamp_Close_Time  Cushion_Position  Switch_Over_Position  \\\n",
       "count       6697.000000       6697.000000                6697.0   \n",
       "mean           7.113505        653.440885                   0.0   \n",
       "std            0.076023          0.115223                   0.0   \n",
       "min            6.070000        653.409973                   0.0   \n",
       "25%            7.120000        653.429993                   0.0   \n",
       "50%            7.120000        653.429993                   0.0   \n",
       "75%            7.120000        653.440002                   0.0   \n",
       "max            7.140000        655.000000                   0.0   \n",
       "\n",
       "       Plasticizing_Position  Clamp_Open_Position  Max_Injection_Speed  ...  \\\n",
       "count            6697.000000          6697.000000          6697.000000  ...   \n",
       "mean               68.380147           644.881046            55.545916  ...   \n",
       "std                 0.649670            42.292546             0.816338  ...   \n",
       "min                59.759998            69.639999            49.299999  ...   \n",
       "25%                68.320000           647.989990            55.099998  ...   \n",
       "50%                68.360001           647.989990            55.400002  ...   \n",
       "75%                68.510002           647.989990            55.900002  ...   \n",
       "max                68.860001           647.989990            64.800003  ...   \n",
       "\n",
       "       Barrel_Temperature_1  Barrel_Temperature_2  Barrel_Temperature_3  \\\n",
       "count           6697.000000           6697.000000           6697.000000   \n",
       "mean             275.964312            275.134627            274.856219   \n",
       "std                2.308616              1.892702              1.859355   \n",
       "min              244.699997            249.000000            249.600006   \n",
       "25%              275.799988            275.000000            274.799988   \n",
       "50%              276.100006            275.299988            275.000000   \n",
       "75%              276.399994            275.500000            275.100006   \n",
       "max              277.899994            276.500000            276.000000   \n",
       "\n",
       "       Barrel_Temperature_4  Barrel_Temperature_5  Barrel_Temperature_6  \\\n",
       "count           6697.000000           6697.000000           6697.000000   \n",
       "mean             270.283709            254.923025            229.972063   \n",
       "std                2.022469              1.137456              0.429415   \n",
       "min              244.399994            239.699997            224.600006   \n",
       "25%              269.700012            254.800003            229.800003   \n",
       "50%              270.399994            255.000000            230.000000   \n",
       "75%              271.100006            255.199997            230.100006   \n",
       "max              272.399994            256.299988            230.699997   \n",
       "\n",
       "       Barrel_Temperature_7  Hopper_Temperature  Mold_Temperature_3  \\\n",
       "count                6697.0         6697.000000         6697.000000   \n",
       "mean                    0.0           66.668374           22.071106   \n",
       "std                     0.0            2.437105            1.162081   \n",
       "min                     0.0           38.500000           19.100000   \n",
       "25%                     0.0           65.599998           21.200001   \n",
       "50%                     0.0           67.000000           21.900000   \n",
       "75%                     0.0           67.800003           22.799999   \n",
       "max                     0.0           70.599998           25.299999   \n",
       "\n",
       "       Mold_Temperature_4  \n",
       "count         6697.000000  \n",
       "mean            23.467717  \n",
       "std              1.355500  \n",
       "min             20.600000  \n",
       "25%             22.600000  \n",
       "50%             23.299999  \n",
       "75%             24.200001  \n",
       "max             27.799999  \n",
       "\n",
       "[8 rows x 26 columns]"
      ]
     },
     "execution_count": 185,
     "metadata": {},
     "output_type": "execute_result"
    }
   ],
   "source": [
    "cn7_Y.describe()"
   ]
  },
  {
   "cell_type": "markdown",
   "metadata": {},
   "source": [
    "* 각 칼럼 별 분포확인 및 normalization"
   ]
  },
  {
   "cell_type": "code",
   "execution_count": 186,
   "metadata": {},
   "outputs": [
    {
     "data": {
      "image/png": "[encoded data removed]",
      "text/plain": [
       "<Figure size 504x288 with 1 Axes>"
      ]
     },
     "metadata": {
      "needs_background": "light"
     },
     "output_type": "display_data"
    },
    {
     "data": {
      "image/png": "[encoded data removed]",
      "text/plain": [
       "<Figure size 504x288 with 1 Axes>"
      ]
     },
     "metadata": {
      "needs_background": "light"
     },
     "output_type": "display_data"
    },
    {
     "data": {
      "image/png": "[encoded data removed]",
      "text/plain": [
       "<Figure size 504x288 with 1 Axes>"
      ]
     },
     "metadata": {
      "needs_background": "light"
     },
     "output_type": "display_data"
    },
    {
     "data": {
      "image/png": "[encoded data removed]",
      "text/plain": [
       "<Figure size 504x288 with 1 Axes>"
      ]
     },
     "metadata": {
      "needs_background": "light"
     },
     "output_type": "display_data"
    },
    {
     "data": {
      "image/png": "[encoded data removed]",
      "text/plain": [
       "<Figure size 504x288 with 1 Axes>"
      ]
     },
     "metadata": {
      "needs_background": "light"
     },
     "output_type": "display_data"
    },
    {
     "data": {
      "image/png": "[encoded data removed]",
      "text/plain": [
       "<Figure size 504x288 with 1 Axes>"
      ]
     },
     "metadata": {
      "needs_background": "light"
     },
     "output_type": "display_data"
    },
    {
     "data": {
      "image/png": "[encoded data removed]",
      "text/plain": [
       "<Figure size 504x288 with 1 Axes>"
      ]
     },
     "metadata": {
      "needs_background": "light"
     },
     "output_type": "display_data"
    },
    {
     "data": {
      "image/png": "[encoded data removed]",
      "text/plain": [
       "<Figure size 504x288 with 1 Axes>"
      ]
     },
     "metadata": {
      "needs_background": "light"
     },
     "output_type": "display_data"
    },
    {
     "data": {
      "image/png": "[encoded data removed]",
      "text/plain": [
       "<Figure size 504x288 with 1 Axes>"
      ]
     },
     "metadata": {
      "needs_background": "light"
     },
     "output_type": "display_data"
    },
    {
     "data": {
      "image/png": "[encoded data removed]",
      "text/plain": [
       "<Figure size 504x288 with 1 Axes>"
      ]
     },
     "metadata": {
      "needs_background": "light"
     },
     "output_type": "display_data"
    },
    {
     "data": {
      "image/png": "[encoded data removed]",
      "text/plain": [
       "<Figure size 504x288 with 1 Axes>"
      ]
     },
     "metadata": {
      "needs_background": "light"
     },
     "output_type": "display_data"
    },
    {
     "data": {
      "image/png": "[encoded data removed]",
      "text/plain": [
       "<Figure size 504x288 with 1 Axes>"
      ]
     },
     "metadata": {
      "needs_background": "light"
     },
     "output_type": "display_data"
    },
    {
     "data": {
      "image/png": "[encoded data removed]",
      "text/plain": [
       "<Figure size 504x288 with 1 Axes>"
      ]
     },
     "metadata": {
      "needs_background": "light"
     },
     "output_type": "display_data"
    },
    {
     "data": {
      "image/png": "[encoded data removed]",
      "text/plain": [
       "<Figure size 504x288 with 1 Axes>"
      ]
     },
     "metadata": {
      "needs_background": "light"
     },
     "output_type": "display_data"
    },
    {
     "data": {
      "image/png": "[encoded data removed]",
      "text/plain": [
       "<Figure size 504x288 with 1 Axes>"
      ]
     },
     "metadata": {
      "needs_background": "light"
     },
     "output_type": "display_data"
    },
    {
     "data": {
      "image/png": "[encoded data removed]",
      "text/plain": [
       "<Figure size 504x288 with 1 Axes>"
      ]
     },
     "metadata": {
      "needs_background": "light"
     },
     "output_type": "display_data"
    },
    {
     "data": {
      "image/png": "[encoded data removed]",
      "text/plain": [
       "<Figure size 504x288 with 1 Axes>"
      ]
     },
     "metadata": {
      "needs_background": "light"
     },
     "output_type": "display_data"
    },
    {
     "data": {
      "image/png": "[encoded data removed]",
      "text/plain": [
       "<Figure size 504x288 with 1 Axes>"
      ]
     },
     "metadata": {
      "needs_background": "light"
     },
     "output_type": "display_data"
    },
    {
     "data": {
      "image/png": "[encoded data removed]",
      "text/plain": [
       "<Figure size 504x288 with 1 Axes>"
      ]
     },
     "metadata": {
      "needs_background": "light"
     },
     "output_type": "display_data"
    },
    {
     "data": {
      "image/png": "[encoded data removed]",
      "text/plain": [
       "<Figure size 504x288 with 1 Axes>"
      ]
     },
     "metadata": {
      "needs_background": "light"
     },
     "output_type": "display_data"
    },
    {
     "data": {
      "image/png": "[encoded data removed]",
      "text/plain": [
       "<Figure size 504x288 with 1 Axes>"
      ]
     },
     "metadata": {
      "needs_background": "light"
     },
     "output_type": "display_data"
    },
    {
     "data": {
      "image/png": "[encoded data removed]",
      "text/plain": [
       "<Figure size 504x288 with 1 Axes>"
      ]
     },
     "metadata": {
      "needs_background": "light"
     },
     "output_type": "display_data"
    },
    {
     "data": {
      "image/png": "[encoded data removed]",
      "text/plain": [
       "<Figure size 504x288 with 1 Axes>"
      ]
     },
     "metadata": {
      "needs_background": "light"
     },
     "output_type": "display_data"
    },
    {
     "data": {
      "image/png": "[encoded data removed]",
      "text/plain": [
       "<Figure size 504x288 with 1 Axes>"
      ]
     },
     "metadata": {
      "needs_background": "light"
     },
     "output_type": "display_data"
    },
    {
     "data": {
      "image/png": "[encoded data removed]",
      "text/plain": [
       "<Figure size 504x288 with 1 Axes>"
      ]
     },
     "metadata": {
      "needs_background": "light"
     },
     "output_type": "display_data"
    },
    {
     "data": {
      "image/png": "[encoded data removed]",
      "text/plain": [
       "<Figure size 504x288 with 1 Axes>"
      ]
     },
     "metadata": {
      "needs_background": "light"
     },
     "output_type": "display_data"
    }
   ],
   "source": [
    "for index in range(len(cn7_Y.columns)):\n",
    "    plt.figure(figsize=(7,4))\n",
    "    plt.hist(cn7_Y.iloc[:,index], bins=200,linewidth=.3, facecolor = (144/255,171/255,221/255), edgecolor ='black')\n",
    "    plt.title(cn7_Y.columns[index]) #결과는 아래에서 확인 가능하다.\n",
    "    plt.show()"
   ]
  },
  {
   "cell_type": "code",
   "execution_count": 187,
   "metadata": {},
   "outputs": [
    {
     "data": {
      "image/png": "[encoded data removed]",
      "text/plain": [
       "<Figure size 504x288 with 1 Axes>"
      ]
     },
     "metadata": {
      "needs_background": "light"
     },
     "output_type": "display_data"
    },
    {
     "data": {
      "image/png": "[encoded data removed]",
      "text/plain": [
       "<Figure size 504x288 with 1 Axes>"
      ]
     },
     "metadata": {
      "needs_background": "light"
     },
     "output_type": "display_data"
    },
    {
     "data": {
      "image/png": "[encoded data removed]",
      "text/plain": [
       "<Figure size 504x288 with 1 Axes>"
      ]
     },
     "metadata": {
      "needs_background": "light"
     },
     "output_type": "display_data"
    },
    {
     "data": {
      "image/png": "[encoded data removed]",
      "text/plain": [
       "<Figure size 504x288 with 1 Axes>"
      ]
     },
     "metadata": {
      "needs_background": "light"
     },
     "output_type": "display_data"
    },
    {
     "data": {
      "image/png": "[encoded data removed]",
      "text/plain": [
       "<Figure size 504x288 with 1 Axes>"
      ]
     },
     "metadata": {
      "needs_background": "light"
     },
     "output_type": "display_data"
    },
    {
     "data": {
      "image/png": "[encoded data removed]",
      "text/plain": [
       "<Figure size 504x288 with 1 Axes>"
      ]
     },
     "metadata": {
      "needs_background": "light"
     },
     "output_type": "display_data"
    },
    {
     "data": {
      "image/png": "[encoded data removed]",
      "text/plain": [
       "<Figure size 504x288 with 1 Axes>"
      ]
     },
     "metadata": {
      "needs_background": "light"
     },
     "output_type": "display_data"
    },
    {
     "data": {
      "image/png": "[encoded data removed]",
      "text/plain": [
       "<Figure size 504x288 with 1 Axes>"
      ]
     },
     "metadata": {
      "needs_background": "light"
     },
     "output_type": "display_data"
    },
    {
     "data": {
      "image/png": "[encoded data removed]",
      "text/plain": [
       "<Figure size 504x288 with 1 Axes>"
      ]
     },
     "metadata": {
      "needs_background": "light"
     },
     "output_type": "display_data"
    },
    {
     "data": {
      "image/png": "[encoded data removed]",
      "text/plain": [
       "<Figure size 504x288 with 1 Axes>"
      ]
     },
     "metadata": {
      "needs_background": "light"
     },
     "output_type": "display_data"
    },
    {
     "data": {
      "image/png": "[encoded data removed]",
      "text/plain": [
       "<Figure size 504x288 with 1 Axes>"
      ]
     },
     "metadata": {
      "needs_background": "light"
     },
     "output_type": "display_data"
    },
    {
     "data": {
      "image/png": "[encoded data removed]",
      "text/plain": [
       "<Figure size 504x288 with 1 Axes>"
      ]
     },
     "metadata": {
      "needs_background": "light"
     },
     "output_type": "display_data"
    },
    {
     "data": {
      "image/png": "[encoded data removed]",
      "text/plain": [
       "<Figure size 504x288 with 1 Axes>"
      ]
     },
     "metadata": {
      "needs_background": "light"
     },
     "output_type": "display_data"
    },
    {
     "data": {
      "image/png": "[encoded data removed]",
      "text/plain": [
       "<Figure size 504x288 with 1 Axes>"
      ]
     },
     "metadata": {
      "needs_background": "light"
     },
     "output_type": "display_data"
    },
    {
     "data": {
      "image/png": "[encoded data removed]",
      "text/plain": [
       "<Figure size 504x288 with 1 Axes>"
      ]
     },
     "metadata": {
      "needs_background": "light"
     },
     "output_type": "display_data"
    },
    {
     "data": {
      "image/png": "[encoded data removed]",
      "text/plain": [
       "<Figure size 504x288 with 1 Axes>"
      ]
     },
     "metadata": {
      "needs_background": "light"
     },
     "output_type": "display_data"
    },
    {
     "data": {
      "image/png": "[encoded data removed]",
      "text/plain": [
       "<Figure size 504x288 with 1 Axes>"
      ]
     },
     "metadata": {
      "needs_background": "light"
     },
     "output_type": "display_data"
    },
    {
     "data": {
      "image/png": "[encoded data removed]",
      "text/plain": [
       "<Figure size 504x288 with 1 Axes>"
      ]
     },
     "metadata": {
      "needs_background": "light"
     },
     "output_type": "display_data"
    },
    {
     "data": {
      "image/png": "[encoded data removed]",
      "text/plain": [
       "<Figure size 504x288 with 1 Axes>"
      ]
     },
     "metadata": {
      "needs_background": "light"
     },
     "output_type": "display_data"
    },
    {
     "data": {
      "image/png": "[encoded data removed]",
      "text/plain": [
       "<Figure size 504x288 with 1 Axes>"
      ]
     },
     "metadata": {
      "needs_background": "light"
     },
     "output_type": "display_data"
    },
    {
     "data": {
      "image/png": "[encoded data removed]",
      "text/plain": [
       "<Figure size 504x288 with 1 Axes>"
      ]
     },
     "metadata": {
      "needs_background": "light"
     },
     "output_type": "display_data"
    },
    {
     "data": {
      "image/png": "[encoded data removed]",
      "text/plain": [
       "<Figure size 504x288 with 1 Axes>"
      ]
     },
     "metadata": {
      "needs_background": "light"
     },
     "output_type": "display_data"
    },
    {
     "data": {
      "image/png": "[encoded data removed]",
      "text/plain": [
       "<Figure size 504x288 with 1 Axes>"
      ]
     },
     "metadata": {
      "needs_background": "light"
     },
     "output_type": "display_data"
    },
    {
     "data": {
      "image/png": "[encoded data removed]",
      "text/plain": [
       "<Figure size 504x288 with 1 Axes>"
      ]
     },
     "metadata": {
      "needs_background": "light"
     },
     "output_type": "display_data"
    },
    {
     "data": {
      "image/png": "[encoded data removed]",
      "text/plain": [
       "<Figure size 504x288 with 1 Axes>"
      ]
     },
     "metadata": {
      "needs_background": "light"
     },
     "output_type": "display_data"
    },
    {
     "data": {
      "image/png": "[encoded data removed]",
      "text/plain": [
       "<Figure size 504x288 with 1 Axes>"
      ]
     },
     "metadata": {
      "needs_background": "light"
     },
     "output_type": "display_data"
    }
   ],
   "source": [
    "for index in range(len(cn7_Y.columns)):\n",
    "    plt.figure(figsize=(7,4))\n",
    "    plt.hist(np.log1p(cn7_Y.iloc[:,index]), bins=200,linewidth=.3, facecolor = (144/255,171/255,221/255), edgecolor ='black')\n",
    "    plt.title(cn7_Y.columns[index]) #결과는 아래에서 확인 가능하다.\n",
    "    plt.show()"
   ]
  },
  {
   "cell_type": "code",
   "execution_count": 188,
   "metadata": {},
   "outputs": [
    {
     "data": {
      "text/html": [
       "<div>\n",
       "<style scoped>\n",
       "    .dataframe tbody tr th:only-of-type {\n",
       "        vertical-align: middle;\n",
       "    }\n",
       "\n",
       "    .dataframe tbody tr th {\n",
       "        vertical-align: top;\n",
       "    }\n",
       "\n",
       "    .dataframe thead th {\n",
       "        text-align: right;\n",
       "    }\n",
       "</style>\n",
       "<table border=\"1\" class=\"dataframe\">\n",
       "  <thead>\n",
       "    <tr style=\"text-align: right;\">\n",
       "      <th></th>\n",
       "      <th>Injection_Time</th>\n",
       "      <th>Filling_Time</th>\n",
       "      <th>Plasticizing_Time</th>\n",
       "      <th>Cycle_Time</th>\n",
       "      <th>Clamp_Close_Time</th>\n",
       "      <th>Cushion_Position</th>\n",
       "      <th>Switch_Over_Position</th>\n",
       "      <th>Plasticizing_Position</th>\n",
       "      <th>Clamp_Open_Position</th>\n",
       "      <th>Max_Injection_Speed</th>\n",
       "      <th>...</th>\n",
       "      <th>Barrel_Temperature_1</th>\n",
       "      <th>Barrel_Temperature_2</th>\n",
       "      <th>Barrel_Temperature_3</th>\n",
       "      <th>Barrel_Temperature_4</th>\n",
       "      <th>Barrel_Temperature_5</th>\n",
       "      <th>Barrel_Temperature_6</th>\n",
       "      <th>Barrel_Temperature_7</th>\n",
       "      <th>Hopper_Temperature</th>\n",
       "      <th>Mold_Temperature_3</th>\n",
       "      <th>Mold_Temperature_4</th>\n",
       "    </tr>\n",
       "  </thead>\n",
       "  <tbody>\n",
       "    <tr>\n",
       "      <th>0</th>\n",
       "      <td>2.360854</td>\n",
       "      <td>1.701105</td>\n",
       "      <td>2.885359</td>\n",
       "      <td>4.103965</td>\n",
       "      <td>2.095561</td>\n",
       "      <td>6.483734</td>\n",
       "      <td>0.0</td>\n",
       "      <td>4.246207</td>\n",
       "      <td>6.475417</td>\n",
       "      <td>4.030695</td>\n",
       "      <td>...</td>\n",
       "      <td>5.624739</td>\n",
       "      <td>5.622211</td>\n",
       "      <td>5.621487</td>\n",
       "      <td>5.605066</td>\n",
       "      <td>5.544005</td>\n",
       "      <td>5.440251</td>\n",
       "      <td>0.0</td>\n",
       "      <td>4.222445</td>\n",
       "      <td>3.250374</td>\n",
       "      <td>3.353407</td>\n",
       "    </tr>\n",
       "    <tr>\n",
       "      <th>1</th>\n",
       "      <td>2.359910</td>\n",
       "      <td>1.701105</td>\n",
       "      <td>2.885359</td>\n",
       "      <td>4.103635</td>\n",
       "      <td>2.095561</td>\n",
       "      <td>6.483749</td>\n",
       "      <td>0.0</td>\n",
       "      <td>4.246207</td>\n",
       "      <td>6.475417</td>\n",
       "      <td>4.030695</td>\n",
       "      <td>...</td>\n",
       "      <td>5.625821</td>\n",
       "      <td>5.620401</td>\n",
       "      <td>5.621849</td>\n",
       "      <td>5.606170</td>\n",
       "      <td>5.544787</td>\n",
       "      <td>5.442418</td>\n",
       "      <td>0.0</td>\n",
       "      <td>4.218036</td>\n",
       "      <td>3.258097</td>\n",
       "      <td>3.353407</td>\n",
       "    </tr>\n",
       "    <tr>\n",
       "      <th>2</th>\n",
       "      <td>2.358965</td>\n",
       "      <td>1.697449</td>\n",
       "      <td>2.884801</td>\n",
       "      <td>4.103965</td>\n",
       "      <td>2.095561</td>\n",
       "      <td>6.483734</td>\n",
       "      <td>0.0</td>\n",
       "      <td>4.246207</td>\n",
       "      <td>6.475417</td>\n",
       "      <td>4.036009</td>\n",
       "      <td>...</td>\n",
       "      <td>5.625100</td>\n",
       "      <td>5.621487</td>\n",
       "      <td>5.621125</td>\n",
       "      <td>5.607272</td>\n",
       "      <td>5.545177</td>\n",
       "      <td>5.442418</td>\n",
       "      <td>0.0</td>\n",
       "      <td>4.226834</td>\n",
       "      <td>3.258097</td>\n",
       "      <td>3.353407</td>\n",
       "    </tr>\n",
       "    <tr>\n",
       "      <th>3</th>\n",
       "      <td>2.358965</td>\n",
       "      <td>1.697449</td>\n",
       "      <td>2.885917</td>\n",
       "      <td>4.103635</td>\n",
       "      <td>2.095561</td>\n",
       "      <td>6.483734</td>\n",
       "      <td>0.0</td>\n",
       "      <td>4.246350</td>\n",
       "      <td>6.475417</td>\n",
       "      <td>4.034241</td>\n",
       "      <td>...</td>\n",
       "      <td>5.623295</td>\n",
       "      <td>5.621849</td>\n",
       "      <td>5.620401</td>\n",
       "      <td>5.606904</td>\n",
       "      <td>5.545177</td>\n",
       "      <td>5.442418</td>\n",
       "      <td>0.0</td>\n",
       "      <td>4.219508</td>\n",
       "      <td>3.258097</td>\n",
       "      <td>3.353407</td>\n",
       "    </tr>\n",
       "    <tr>\n",
       "      <th>4</th>\n",
       "      <td>2.358020</td>\n",
       "      <td>1.695616</td>\n",
       "      <td>2.885359</td>\n",
       "      <td>4.102974</td>\n",
       "      <td>2.096790</td>\n",
       "      <td>6.483734</td>\n",
       "      <td>0.0</td>\n",
       "      <td>4.246064</td>\n",
       "      <td>6.475417</td>\n",
       "      <td>4.037774</td>\n",
       "      <td>...</td>\n",
       "      <td>5.622934</td>\n",
       "      <td>5.620038</td>\n",
       "      <td>5.619676</td>\n",
       "      <td>5.605066</td>\n",
       "      <td>5.546739</td>\n",
       "      <td>5.442851</td>\n",
       "      <td>0.0</td>\n",
       "      <td>4.215086</td>\n",
       "      <td>3.250374</td>\n",
       "      <td>3.349904</td>\n",
       "    </tr>\n",
       "  </tbody>\n",
       "</table>\n",
       "<p>5 rows × 26 columns</p>\n",
       "</div>"
      ],
      "text/plain": [
       "   Injection_Time  Filling_Time  Plasticizing_Time  Cycle_Time  \\\n",
       "0        2.360854      1.701105           2.885359    4.103965   \n",
       "1        2.359910      1.701105           2.885359    4.103635   \n",
       "2        2.358965      1.697449           2.884801    4.103965   \n",
       "3        2.358965      1.697449           2.885917    4.103635   \n",
       "4        2.358020      1.695616           2.885359    4.102974   \n",
       "\n",
       "   Clamp_Close_Time  Cushion_Position  Switch_Over_Position  \\\n",
       "0          2.095561          6.483734                   0.0   \n",
       "1          2.095561          6.483749                   0.0   \n",
       "2          2.095561          6.483734                   0.0   \n",
       "3          2.095561          6.483734                   0.0   \n",
       "4          2.096790          6.483734                   0.0   \n",
       "\n",
       "   Plasticizing_Position  Clamp_Open_Position  Max_Injection_Speed  ...  \\\n",
       "0               4.246207             6.475417             4.030695  ...   \n",
       "1               4.246207             6.475417             4.030695  ...   \n",
       "2               4.246207             6.475417             4.036009  ...   \n",
       "3               4.246350             6.475417             4.034241  ...   \n",
       "4               4.246064             6.475417             4.037774  ...   \n",
       "\n",
       "   Barrel_Temperature_1  Barrel_Temperature_2  Barrel_Temperature_3  \\\n",
       "0              5.624739              5.622211              5.621487   \n",
       "1              5.625821              5.620401              5.621849   \n",
       "2              5.625100              5.621487              5.621125   \n",
       "3              5.623295              5.621849              5.620401   \n",
       "4              5.622934              5.620038              5.619676   \n",
       "\n",
       "   Barrel_Temperature_4  Barrel_Temperature_5  Barrel_Temperature_6  \\\n",
       "0              5.605066              5.544005              5.440251   \n",
       "1              5.606170              5.544787              5.442418   \n",
       "2              5.607272              5.545177              5.442418   \n",
       "3              5.606904              5.545177              5.442418   \n",
       "4              5.605066              5.546739              5.442851   \n",
       "\n",
       "   Barrel_Temperature_7  Hopper_Temperature  Mold_Temperature_3  \\\n",
       "0                   0.0            4.222445            3.250374   \n",
       "1                   0.0            4.218036            3.258097   \n",
       "2                   0.0            4.226834            3.258097   \n",
       "3                   0.0            4.219508            3.258097   \n",
       "4                   0.0            4.215086            3.250374   \n",
       "\n",
       "   Mold_Temperature_4  \n",
       "0            3.353407  \n",
       "1            3.353407  \n",
       "2            3.353407  \n",
       "3            3.353407  \n",
       "4            3.349904  \n",
       "\n",
       "[5 rows x 26 columns]"
      ]
     },
     "execution_count": 188,
     "metadata": {},
     "output_type": "execute_result"
    }
   ],
   "source": [
    "cn7_Y = np.log1p(cn7_Y)\n",
    "cn7_Y.head()"
   ]
  },
  {
   "cell_type": "markdown",
   "metadata": {},
   "source": [
    "* PCA\n",
    "> 성능저하로 실시하지않음"
   ]
  },
  {
   "cell_type": "code",
   "execution_count": 189,
   "metadata": {},
   "outputs": [],
   "source": [
    "# from sklearn.decomposition import PCA\n",
    "\n",
    "# pca_cn7 = PCA(n_components = 20)\n",
    "# pca_rg3 = PCA(n_components = 20)\n",
    "\n",
    "# pca_cn7.fit(cn7_Y)\n",
    "# pca_rg3.fit(rg3_Y)\n",
    "\n",
    "# cn7_Y = pca_cn7.transform(cn7_Y)\n",
    "# rg3_Y = pca_rg3.transform(rg3_Y)"
   ]
  },
  {
   "cell_type": "code",
   "execution_count": 190,
   "metadata": {},
   "outputs": [],
   "source": [
    "# cn7_Y = pd.DataFrame(cn7_Y)"
   ]
  },
  {
   "cell_type": "code",
   "execution_count": 191,
   "metadata": {},
   "outputs": [],
   "source": [
    "# rg3_Y = pd.DataFrame(rg3_Y)"
   ]
  },
  {
   "cell_type": "markdown",
   "metadata": {},
   "source": [
    "## 4. 전처리된 데이터 특성 분석"
   ]
  },
  {
   "cell_type": "code",
   "execution_count": 192,
   "metadata": {},
   "outputs": [
    {
     "data": {
      "text/html": [
       "<div>\n",
       "<style scoped>\n",
       "    .dataframe tbody tr th:only-of-type {\n",
       "        vertical-align: middle;\n",
       "    }\n",
       "\n",
       "    .dataframe tbody tr th {\n",
       "        vertical-align: top;\n",
       "    }\n",
       "\n",
       "    .dataframe thead th {\n",
       "        text-align: right;\n",
       "    }\n",
       "</style>\n",
       "<table border=\"1\" class=\"dataframe\">\n",
       "  <thead>\n",
       "    <tr style=\"text-align: right;\">\n",
       "      <th></th>\n",
       "      <th>Injection_Time</th>\n",
       "      <th>Filling_Time</th>\n",
       "      <th>Plasticizing_Time</th>\n",
       "      <th>Cycle_Time</th>\n",
       "      <th>Clamp_Close_Time</th>\n",
       "      <th>Cushion_Position</th>\n",
       "      <th>Switch_Over_Position</th>\n",
       "      <th>Plasticizing_Position</th>\n",
       "      <th>Clamp_Open_Position</th>\n",
       "      <th>Max_Injection_Speed</th>\n",
       "      <th>...</th>\n",
       "      <th>Barrel_Temperature_1</th>\n",
       "      <th>Barrel_Temperature_2</th>\n",
       "      <th>Barrel_Temperature_3</th>\n",
       "      <th>Barrel_Temperature_4</th>\n",
       "      <th>Barrel_Temperature_5</th>\n",
       "      <th>Barrel_Temperature_6</th>\n",
       "      <th>Barrel_Temperature_7</th>\n",
       "      <th>Hopper_Temperature</th>\n",
       "      <th>Mold_Temperature_3</th>\n",
       "      <th>Mold_Temperature_4</th>\n",
       "    </tr>\n",
       "  </thead>\n",
       "  <tbody>\n",
       "    <tr>\n",
       "      <th>count</th>\n",
       "      <td>6697.000000</td>\n",
       "      <td>6697.000000</td>\n",
       "      <td>6697.000000</td>\n",
       "      <td>6697.000000</td>\n",
       "      <td>6697.000000</td>\n",
       "      <td>6697.000000</td>\n",
       "      <td>6697.0</td>\n",
       "      <td>6697.000000</td>\n",
       "      <td>6697.000000</td>\n",
       "      <td>6697.000000</td>\n",
       "      <td>...</td>\n",
       "      <td>6697.000000</td>\n",
       "      <td>6697.000000</td>\n",
       "      <td>6697.000000</td>\n",
       "      <td>6697.000000</td>\n",
       "      <td>6697.000000</td>\n",
       "      <td>6697.000000</td>\n",
       "      <td>6697.0</td>\n",
       "      <td>6697.000000</td>\n",
       "      <td>6697.000000</td>\n",
       "      <td>6697.000000</td>\n",
       "    </tr>\n",
       "    <tr>\n",
       "      <th>mean</th>\n",
       "      <td>2.358475</td>\n",
       "      <td>1.694362</td>\n",
       "      <td>2.880242</td>\n",
       "      <td>4.103384</td>\n",
       "      <td>2.093482</td>\n",
       "      <td>6.483781</td>\n",
       "      <td>0.0</td>\n",
       "      <td>4.239553</td>\n",
       "      <td>6.463495</td>\n",
       "      <td>4.034955</td>\n",
       "      <td>...</td>\n",
       "      <td>5.623851</td>\n",
       "      <td>5.620864</td>\n",
       "      <td>5.619856</td>\n",
       "      <td>5.603136</td>\n",
       "      <td>5.544866</td>\n",
       "      <td>5.442295</td>\n",
       "      <td>0.0</td>\n",
       "      <td>4.213793</td>\n",
       "      <td>3.137331</td>\n",
       "      <td>3.195873</td>\n",
       "    </tr>\n",
       "    <tr>\n",
       "      <th>std</th>\n",
       "      <td>0.012643</td>\n",
       "      <td>0.017694</td>\n",
       "      <td>0.015341</td>\n",
       "      <td>0.005724</td>\n",
       "      <td>0.010013</td>\n",
       "      <td>0.000176</td>\n",
       "      <td>0.0</td>\n",
       "      <td>0.009956</td>\n",
       "      <td>0.162181</td>\n",
       "      <td>0.013781</td>\n",
       "      <td>...</td>\n",
       "      <td>0.008817</td>\n",
       "      <td>0.007174</td>\n",
       "      <td>0.007053</td>\n",
       "      <td>0.007763</td>\n",
       "      <td>0.004567</td>\n",
       "      <td>0.001874</td>\n",
       "      <td>0.0</td>\n",
       "      <td>0.043333</td>\n",
       "      <td>0.049848</td>\n",
       "      <td>0.053991</td>\n",
       "    </tr>\n",
       "    <tr>\n",
       "      <th>min</th>\n",
       "      <td>2.337952</td>\n",
       "      <td>1.470176</td>\n",
       "      <td>2.863343</td>\n",
       "      <td>4.091674</td>\n",
       "      <td>1.955861</td>\n",
       "      <td>6.483734</td>\n",
       "      <td>0.0</td>\n",
       "      <td>4.106932</td>\n",
       "      <td>4.257597</td>\n",
       "      <td>3.918005</td>\n",
       "      <td>...</td>\n",
       "      <td>5.504111</td>\n",
       "      <td>5.521461</td>\n",
       "      <td>5.523858</td>\n",
       "      <td>5.502890</td>\n",
       "      <td>5.483551</td>\n",
       "      <td>5.418764</td>\n",
       "      <td>0.0</td>\n",
       "      <td>3.676301</td>\n",
       "      <td>3.000720</td>\n",
       "      <td>3.072693</td>\n",
       "    </tr>\n",
       "    <tr>\n",
       "      <th>25%</th>\n",
       "      <td>2.354228</td>\n",
       "      <td>1.690096</td>\n",
       "      <td>2.869602</td>\n",
       "      <td>4.102313</td>\n",
       "      <td>2.094330</td>\n",
       "      <td>6.483765</td>\n",
       "      <td>0.0</td>\n",
       "      <td>4.238733</td>\n",
       "      <td>6.475417</td>\n",
       "      <td>4.027136</td>\n",
       "      <td>...</td>\n",
       "      <td>5.623295</td>\n",
       "      <td>5.620401</td>\n",
       "      <td>5.619676</td>\n",
       "      <td>5.601011</td>\n",
       "      <td>5.544396</td>\n",
       "      <td>5.441552</td>\n",
       "      <td>0.0</td>\n",
       "      <td>4.198705</td>\n",
       "      <td>3.100092</td>\n",
       "      <td>3.161247</td>\n",
       "    </tr>\n",
       "    <tr>\n",
       "      <th>50%</th>\n",
       "      <td>2.358020</td>\n",
       "      <td>1.695616</td>\n",
       "      <td>2.880321</td>\n",
       "      <td>4.102974</td>\n",
       "      <td>2.094330</td>\n",
       "      <td>6.483765</td>\n",
       "      <td>0.0</td>\n",
       "      <td>4.239310</td>\n",
       "      <td>6.475417</td>\n",
       "      <td>4.032469</td>\n",
       "      <td>...</td>\n",
       "      <td>5.624378</td>\n",
       "      <td>5.621487</td>\n",
       "      <td>5.620401</td>\n",
       "      <td>5.603594</td>\n",
       "      <td>5.545177</td>\n",
       "      <td>5.442418</td>\n",
       "      <td>0.0</td>\n",
       "      <td>4.219508</td>\n",
       "      <td>3.131137</td>\n",
       "      <td>3.190476</td>\n",
       "    </tr>\n",
       "    <tr>\n",
       "      <th>75%</th>\n",
       "      <td>2.360854</td>\n",
       "      <td>1.701105</td>\n",
       "      <td>2.885359</td>\n",
       "      <td>4.103304</td>\n",
       "      <td>2.094330</td>\n",
       "      <td>6.483780</td>\n",
       "      <td>0.0</td>\n",
       "      <td>4.241471</td>\n",
       "      <td>6.475417</td>\n",
       "      <td>4.041295</td>\n",
       "      <td>...</td>\n",
       "      <td>5.625460</td>\n",
       "      <td>5.622211</td>\n",
       "      <td>5.620763</td>\n",
       "      <td>5.606170</td>\n",
       "      <td>5.545958</td>\n",
       "      <td>5.442851</td>\n",
       "      <td>0.0</td>\n",
       "      <td>4.231204</td>\n",
       "      <td>3.169686</td>\n",
       "      <td>3.226844</td>\n",
       "    </tr>\n",
       "    <tr>\n",
       "      <th>max</th>\n",
       "      <td>2.524127</td>\n",
       "      <td>1.761300</td>\n",
       "      <td>3.095578</td>\n",
       "      <td>4.179757</td>\n",
       "      <td>2.096790</td>\n",
       "      <td>6.486161</td>\n",
       "      <td>0.0</td>\n",
       "      <td>4.246493</td>\n",
       "      <td>6.475417</td>\n",
       "      <td>4.186620</td>\n",
       "      <td>...</td>\n",
       "      <td>5.630853</td>\n",
       "      <td>5.625821</td>\n",
       "      <td>5.624018</td>\n",
       "      <td>5.610936</td>\n",
       "      <td>5.550243</td>\n",
       "      <td>5.445443</td>\n",
       "      <td>0.0</td>\n",
       "      <td>4.271095</td>\n",
       "      <td>3.269569</td>\n",
       "      <td>3.360375</td>\n",
       "    </tr>\n",
       "  </tbody>\n",
       "</table>\n",
       "<p>8 rows × 26 columns</p>\n",
       "</div>"
      ],
      "text/plain": [
       "       Injection_Time  Filling_Time  Plasticizing_Time   Cycle_Time  \\\n",
       "count     6697.000000   6697.000000        6697.000000  6697.000000   \n",
       "mean         2.358475      1.694362           2.880242     4.103384   \n",
       "std          0.012643      0.017694           0.015341     0.005724   \n",
       "min          2.337952      1.470176           2.863343     4.091674   \n",
       "25%          2.354228      1.690096           2.869602     4.102313   \n",
       "50%          2.358020      1.695616           2.880321     4.102974   \n",
       "75%          2.360854      1.701105           2.885359     4.103304   \n",
       "max          2.524127      1.761300           3.095578     4.179757   \n",
       "\n",
       "       Clamp_Close_Time  Cushion_Position  Switch_Over_Position  \\\n",
       "count       6697.000000       6697.000000                6697.0   \n",
       "mean           2.093482          6.483781                   0.0   \n",
       "std            0.010013          0.000176                   0.0   \n",
       "min            1.955861          6.483734                   0.0   \n",
       "25%            2.094330          6.483765                   0.0   \n",
       "50%            2.094330          6.483765                   0.0   \n",
       "75%            2.094330          6.483780                   0.0   \n",
       "max            2.096790          6.486161                   0.0   \n",
       "\n",
       "       Plasticizing_Position  Clamp_Open_Position  Max_Injection_Speed  ...  \\\n",
       "count            6697.000000          6697.000000          6697.000000  ...   \n",
       "mean                4.239553             6.463495             4.034955  ...   \n",
       "std                 0.009956             0.162181             0.013781  ...   \n",
       "min                 4.106932             4.257597             3.918005  ...   \n",
       "25%                 4.238733             6.475417             4.027136  ...   \n",
       "50%                 4.239310             6.475417             4.032469  ...   \n",
       "75%                 4.241471             6.475417             4.041295  ...   \n",
       "max                 4.246493             6.475417             4.186620  ...   \n",
       "\n",
       "       Barrel_Temperature_1  Barrel_Temperature_2  Barrel_Temperature_3  \\\n",
       "count           6697.000000           6697.000000           6697.000000   \n",
       "mean               5.623851              5.620864              5.619856   \n",
       "std                0.008817              0.007174              0.007053   \n",
       "min                5.504111              5.521461              5.523858   \n",
       "25%                5.623295              5.620401              5.619676   \n",
       "50%                5.624378              5.621487              5.620401   \n",
       "75%                5.625460              5.622211              5.620763   \n",
       "max                5.630853              5.625821              5.624018   \n",
       "\n",
       "       Barrel_Temperature_4  Barrel_Temperature_5  Barrel_Temperature_6  \\\n",
       "count           6697.000000           6697.000000           6697.000000   \n",
       "mean               5.603136              5.544866              5.442295   \n",
       "std                0.007763              0.004567              0.001874   \n",
       "min                5.502890              5.483551              5.418764   \n",
       "25%                5.601011              5.544396              5.441552   \n",
       "50%                5.603594              5.545177              5.442418   \n",
       "75%                5.606170              5.545958              5.442851   \n",
       "max                5.610936              5.550243              5.445443   \n",
       "\n",
       "       Barrel_Temperature_7  Hopper_Temperature  Mold_Temperature_3  \\\n",
       "count                6697.0         6697.000000         6697.000000   \n",
       "mean                    0.0            4.213793            3.137331   \n",
       "std                     0.0            0.043333            0.049848   \n",
       "min                     0.0            3.676301            3.000720   \n",
       "25%                     0.0            4.198705            3.100092   \n",
       "50%                     0.0            4.219508            3.131137   \n",
       "75%                     0.0            4.231204            3.169686   \n",
       "max                     0.0            4.271095            3.269569   \n",
       "\n",
       "       Mold_Temperature_4  \n",
       "count         6697.000000  \n",
       "mean             3.195873  \n",
       "std              0.053991  \n",
       "min              3.072693  \n",
       "25%              3.161247  \n",
       "50%              3.190476  \n",
       "75%              3.226844  \n",
       "max              3.360375  \n",
       "\n",
       "[8 rows x 26 columns]"
      ]
     },
     "execution_count": 192,
     "metadata": {},
     "output_type": "execute_result"
    }
   ],
   "source": [
    "cn7_Y.describe()"
   ]
  },
  {
   "cell_type": "markdown",
   "metadata": {},
   "source": [
    "- 4-2. CN7 제품/corr 함수를 통한 변수 간 상관관계 파악 가이드"
   ]
  },
  {
   "cell_type": "markdown",
   "metadata": {},
   "source": [
    "## 5. Training, Test data 분리"
   ]
  },
  {
   "cell_type": "markdown",
   "metadata": {},
   "source": [
    "-  5-1. 양품 및 불량 데이터 파악"
   ]
  },
  {
   "cell_type": "code",
   "execution_count": 193,
   "metadata": {},
   "outputs": [
    {
     "name": "stdout",
     "output_type": "stream",
     "text": [
      "CN7의 양품 학습 데이터셋 개수: 4000\n",
      "CN7의 양품 검증 데이터셋 개수: 2697\n",
      "CN7의 불량 검증 데이터셋 개수: 39\n"
     ]
    }
   ],
   "source": [
    "cn7_train_Y = cn7_Y[:4000]\n",
    "cn7_test_Y = cn7_Y[4000:]\n",
    "cn7_test_N = cn7_N\n",
    "\n",
    "print('CN7의 양품 학습 데이터셋 개수:', len(cn7_train_Y))\n",
    "print('CN7의 양품 검증 데이터셋 개수:', len(cn7_test_Y))\n",
    "print('CN7의 불량 검증 데이터셋 개수:', len(cn7_test_N))"
   ]
  },
  {
   "cell_type": "markdown",
   "metadata": {},
   "source": [
    "## 6. 오토인코더 모델 생성"
   ]
  },
  {
   "cell_type": "code",
   "execution_count": 194,
   "metadata": {},
   "outputs": [],
   "source": [
    "dropout_encoder = Sequential([\n",
    "    Dropout(0.3),\n",
    "    Dense(15, activation=\"relu\"),\n",
    "    Dense(5, activation=\"relu\")\n",
    "])\n",
    "\n",
    "dropout_decoder = Sequential([\n",
    "    Dense(15, activation=\"relu\", input_shape=[5]),\n",
    "    Dense(cn7_train_Y.shape[1], activation=\"relu\"),\n",
    "])\n",
    "\n",
    "dropout_AE = Sequential([dropout_encoder, dropout_decoder])"
   ]
  },
  {
   "cell_type": "code",
   "execution_count": 195,
   "metadata": {
    "scrolled": true
   },
   "outputs": [
    {
     "name": "stdout",
     "output_type": "stream",
     "text": [
      "Epoch 1/30\n",
      "WARNING:tensorflow:Layer dropout_5 is casting an input tensor from dtype float64 to the layer's dtype of float32, which is new behavior in TensorFlow 2.  The layer has dtype float32 because its dtype defaults to floatx.\n",
      "\n",
      "If you intended to run this layer in float32, you can safely ignore this warning. If in doubt, this warning is likely only an issue if you are porting a TensorFlow 1.X model to TensorFlow 2.\n",
      "\n",
      "To change all layers to have dtype float64 by default, call `tf.keras.backend.set_floatx('float64')`. To change just this layer, pass dtype='float64' to the layer constructor. If you are the author of this layer, you can disable autocasting by passing autocast=False to the base Layer constructor.\n",
      "\n",
      "107/107 [==============================] - 1s 5ms/step - loss: 5.2650 - accuracy: 0.4366 - val_loss: 4.5663 - val_accuracy: 1.0000\n",
      "Epoch 2/30\n",
      "107/107 [==============================] - 0s 3ms/step - loss: 4.2829 - accuracy: 0.6078 - val_loss: 4.3971 - val_accuracy: 1.0000\n",
      "Epoch 3/30\n",
      "107/107 [==============================] - 0s 3ms/step - loss: 4.2303 - accuracy: 0.6003 - val_loss: 4.3906 - val_accuracy: 0.0000e+00\n",
      "Epoch 4/30\n",
      "107/107 [==============================] - 0s 3ms/step - loss: 4.2038 - accuracy: 0.6850 - val_loss: 4.4607 - val_accuracy: 0.0000e+00\n",
      "Epoch 5/30\n",
      "107/107 [==============================] - 0s 3ms/step - loss: 4.1829 - accuracy: 0.6950 - val_loss: 4.4436 - val_accuracy: 0.0000e+00\n",
      "Epoch 6/30\n",
      "107/107 [==============================] - 0s 2ms/step - loss: 4.1725 - accuracy: 0.7466 - val_loss: 4.2922 - val_accuracy: 0.0000e+00\n",
      "Epoch 7/30\n",
      "107/107 [==============================] - 0s 2ms/step - loss: 4.1655 - accuracy: 0.7609 - val_loss: 4.2868 - val_accuracy: 0.0000e+00\n",
      "Epoch 8/30\n",
      "107/107 [==============================] - 0s 2ms/step - loss: 4.1621 - accuracy: 0.7844 - val_loss: 4.2344 - val_accuracy: 0.0000e+00\n",
      "Epoch 9/30\n",
      "107/107 [==============================] - 0s 2ms/step - loss: 4.1607 - accuracy: 0.7825 - val_loss: 4.2831 - val_accuracy: 0.0000e+00\n",
      "Epoch 10/30\n",
      "107/107 [==============================] - 0s 2ms/step - loss: 4.1569 - accuracy: 0.8303 - val_loss: 4.2570 - val_accuracy: 0.0000e+00\n",
      "Epoch 11/30\n",
      "107/107 [==============================] - 0s 3ms/step - loss: 4.1557 - accuracy: 0.7859 - val_loss: 4.2192 - val_accuracy: 0.0000e+00\n",
      "Epoch 12/30\n",
      "107/107 [==============================] - 0s 3ms/step - loss: 4.1464 - accuracy: 0.8066 - val_loss: 4.2496 - val_accuracy: 0.0000e+00\n",
      "Epoch 13/30\n",
      "107/107 [==============================] - 0s 3ms/step - loss: 4.1263 - accuracy: 0.8303 - val_loss: 4.2214 - val_accuracy: 0.0000e+00\n",
      "Epoch 14/30\n",
      "107/107 [==============================] - 0s 4ms/step - loss: 4.1250 - accuracy: 0.8794 - val_loss: 4.2949 - val_accuracy: 0.0000e+00\n",
      "Epoch 15/30\n",
      "107/107 [==============================] - 0s 3ms/step - loss: 4.1243 - accuracy: 0.7972 - val_loss: 4.1960 - val_accuracy: 0.0000e+00\n",
      "Epoch 16/30\n",
      "107/107 [==============================] - 0s 4ms/step - loss: 4.1237 - accuracy: 0.7975 - val_loss: 4.1724 - val_accuracy: 0.0000e+00\n",
      "Epoch 17/30\n",
      "107/107 [==============================] - 0s 4ms/step - loss: 4.1230 - accuracy: 0.8631 - val_loss: 4.2066 - val_accuracy: 0.0000e+00\n",
      "Epoch 18/30\n",
      "107/107 [==============================] - 0s 3ms/step - loss: 4.1231 - accuracy: 0.8234 - val_loss: 4.1460 - val_accuracy: 0.0000e+00\n",
      "Epoch 19/30\n",
      "107/107 [==============================] - 0s 3ms/step - loss: 4.1233 - accuracy: 0.7841 - val_loss: 4.1987 - val_accuracy: 1.0000\n",
      "Epoch 20/30\n",
      "107/107 [==============================] - 0s 3ms/step - loss: 4.1231 - accuracy: 0.7609 - val_loss: 4.1815 - val_accuracy: 0.0000e+00\n",
      "Epoch 21/30\n",
      "107/107 [==============================] - 0s 3ms/step - loss: 4.1230 - accuracy: 0.7216 - val_loss: 4.2761 - val_accuracy: 1.0000\n",
      "Epoch 22/30\n",
      "107/107 [==============================] - 0s 3ms/step - loss: 4.1228 - accuracy: 0.7684 - val_loss: 4.2917 - val_accuracy: 1.0000\n",
      "Epoch 23/30\n",
      "107/107 [==============================] - 0s 3ms/step - loss: 4.1235 - accuracy: 0.7653 - val_loss: 4.1478 - val_accuracy: 0.1863\n",
      "Epoch 24/30\n",
      "107/107 [==============================] - 0s 3ms/step - loss: 4.1239 - accuracy: 0.7331 - val_loss: 4.1730 - val_accuracy: 1.0000\n",
      "Epoch 25/30\n",
      "107/107 [==============================] - 0s 2ms/step - loss: 4.1234 - accuracy: 0.7947 - val_loss: 4.2363 - val_accuracy: 0.0000e+00\n"
     ]
    }
   ],
   "source": [
    "# 손실함수 옵티마이저 정의\n",
    "dropout_AE.compile(loss=\"mse\", optimizer=Adam(lr=0.01), metrics=['accuracy'])\n",
    "# 모델 훈련\n",
    "history = dropout_AE.fit(cn7_train_Y, cn7_train_Y, batch_size=30, epochs=30, validation_split=0.2, callbacks=[EarlyStopping(monitor=\"val_loss\", patience=7, mode=\"min\")])"
   ]
  },
  {
   "cell_type": "code",
   "execution_count": 196,
   "metadata": {},
   "outputs": [
    {
     "data": {
      "image/png": "[encoded data removed]",
      "text/plain": [
       "<Figure size 432x288 with 1 Axes>"
      ]
     },
     "metadata": {
      "needs_background": "light"
     },
     "output_type": "display_data"
    }
   ],
   "source": [
    "plt.plot(history.history[\"loss\"], label=\"Training Loss\")\n",
    "plt.plot(history.history[\"val_loss\"], label=\"Validation Loss\")\n",
    "plt.legend()\n",
    "# plt.savefig('loss.png', dpi=300)\n",
    "plt.show()"
   ]
  },
  {
   "cell_type": "code",
   "execution_count": 197,
   "metadata": {},
   "outputs": [
    {
     "data": {
      "image/png": "[encoded data removed]",
      "text/plain": [
       "<Figure size 432x288 with 1 Axes>"
      ]
     },
     "metadata": {
      "needs_background": "light"
     },
     "output_type": "display_data"
    }
   ],
   "source": [
    "plt.plot(history.history[\"accuracy\"], label=\"Training Acc\")\n",
    "plt.plot(history.history[\"val_accuracy\"], label=\"Validation Acc\")\n",
    "plt.legend()\n",
    "plt.savefig('acc.png', dpi=300)\n",
    "plt.show()"
   ]
  },
  {
   "cell_type": "markdown",
   "metadata": {},
   "source": [
    "## 7. 임계값 정의 및 예측값과 복원 오차 확인"
   ]
  },
  {
   "cell_type": "markdown",
   "metadata": {},
   "source": [
    "- 7-1. 임계값 정의 가이드"
   ]
  },
  {
   "cell_type": "code",
   "execution_count": 198,
   "metadata": {},
   "outputs": [
    {
     "name": "stdout",
     "output_type": "stream",
     "text": [
      "복원 오류 임계치:  4.184732585154144\n"
     ]
    }
   ],
   "source": [
    "# 학습 데이터의 예측값\n",
    "\n",
    "cn7_train_pred = dropout_AE.predict(cn7_train_Y)\n",
    "# 학습 데이터의 복원 오차 (예측값 – 실제 값)\n",
    "cn7_train_loss = np.mean(np.square(cn7_train_pred - cn7_train_Y), axis=1)\n",
    "\n",
    "# 임계치\n",
    "threshold = np.mean(cn7_train_loss) # + np.std(cn7_train_loss)\n",
    "\n",
    "print(\"복원 오류 임계치: \", threshold) #결과는 아래에서 확인 가능하다."
   ]
  },
  {
   "cell_type": "markdown",
   "metadata": {},
   "source": [
    "- 7-2. 데이터 각각의 예측값과 복원 오차 확인 가이드"
   ]
  },
  {
   "cell_type": "markdown",
   "metadata": {},
   "source": [
    "    - 양품"
   ]
  },
  {
   "cell_type": "code",
   "execution_count": 199,
   "metadata": {},
   "outputs": [
    {
     "data": {
      "image/png": "[encoded data removed]",
      "text/plain": [
       "<Figure size 432x288 with 1 Axes>"
      ]
     },
     "metadata": {
      "needs_background": "light"
     },
     "output_type": "display_data"
    },
    {
     "name": "stdout",
     "output_type": "stream",
     "text": [
      "불량 개수:  561\n"
     ]
    }
   ],
   "source": [
    "# 평가 데이터의 양품\n",
    "\n",
    "# 예측값\n",
    "cn7_predict_Y = dropout_AE.predict(cn7_test_Y)\n",
    "\n",
    "# 양품 평가 데이터의 복원 오차 (예측값 – 실제 값)\n",
    "cn7_test_Y_mse= np.mean(np.square(cn7_predict_Y - cn7_test_Y), axis=1)\n",
    "\n",
    "# 시각화\n",
    "plt.hist(cn7_test_Y_mse, bins=50)\n",
    "plt.xlabel(\"test MSE loss\")\n",
    "plt.ylabel(\"No of samples\")\n",
    "plt.show() \n",
    "\n",
    "# 불량으로 판단한 데이터 확인\n",
    "cv7_test_Y_anomalies = cn7_test_Y_mse > threshold\n",
    "print(\"불량 개수: \", np.sum(cv7_test_Y_anomalies)) #결과는 아래에서 확인 가능하다."
   ]
  },
  {
   "cell_type": "markdown",
   "metadata": {},
   "source": [
    "    - 불량"
   ]
  },
  {
   "cell_type": "code",
   "execution_count": 200,
   "metadata": {},
   "outputs": [
    {
     "data": {
      "image/png": "[encoded data removed]",
      "text/plain": [
       "<Figure size 432x288 with 1 Axes>"
      ]
     },
     "metadata": {
      "needs_background": "light"
     },
     "output_type": "display_data"
    },
    {
     "name": "stdout",
     "output_type": "stream",
     "text": [
      "불량 개수:  39\n"
     ]
    }
   ],
   "source": [
    "# 평가 데이터의 불량\n",
    "\n",
    "# 예측값\n",
    "cn7_predict_N = dropout_AE.predict(cn7_test_N)\n",
    "# 불량 평가 데이터의 복원 오차 (예측값 – 실제 값)\n",
    "cn7_test_N_mse = np.mean(np.square(cn7_predict_N - cn7_test_N), axis=1)\n",
    "\n",
    "# 시각화\n",
    "plt.hist(cn7_test_N_mse, bins=50)\n",
    "plt.xlabel(\"test MSE loss\")\n",
    "plt.ylabel(\"No of samples\")\n",
    "plt.show() \n",
    "\n",
    "# 불량으로 판단한 데이터 확인\n",
    "cv7_test_N_anomalies = cn7_test_N_mse > threshold\n",
    "print(\"불량 개수: \", np.sum(cv7_test_N_anomalies)) #결과는 아래에서 확인 가능하다."
   ]
  },
  {
   "cell_type": "markdown",
   "metadata": {},
   "source": [
    "## 8. 결과"
   ]
  },
  {
   "cell_type": "code",
   "execution_count": 201,
   "metadata": {},
   "outputs": [],
   "source": [
    "cn7_true = np.concatenate([np.zeros(len(cv7_test_Y_anomalies)), np.ones(len(cv7_test_N_anomalies))])"
   ]
  },
  {
   "cell_type": "code",
   "execution_count": 202,
   "metadata": {},
   "outputs": [],
   "source": [
    "cn7_prediction = np.concatenate([cv7_test_Y_anomalies, cv7_test_N_anomalies])"
   ]
  },
  {
   "cell_type": "code",
   "execution_count": 203,
   "metadata": {},
   "outputs": [
    {
     "data": {
      "text/plain": [
       "array([[2136,  561],\n",
       "       [   0,   39]], dtype=int64)"
      ]
     },
     "execution_count": 203,
     "metadata": {},
     "output_type": "execute_result"
    }
   ],
   "source": [
    "from sklearn.metrics import confusion_matrix\n",
    "confusion_matrix(cn7_true, cn7_prediction)  #결과는 아래에서 확인 가능하다."
   ]
  },
  {
   "cell_type": "code",
   "execution_count": 204,
   "metadata": {},
   "outputs": [],
   "source": [
    "def roc_curve_plot(y_test, pred_proba_c1):\n",
    "    fprs, tprs, thresholds = roc_curve(y_test, pred_proba_c1)\n",
    "    plt.plot(fprs, tprs, label='ROC')\n",
    "    plt.plot([0,1],[0,1],'k--', label='Random')\n",
    "    \n",
    "    start, end = plt.xlim()\n",
    "    plt.xticks(np.round(np.aragne(start, end, 0.1), 2))\n",
    "    plt.xlim(0,1); plt.ylim(0,1)\n",
    "    plt.xlabel('FPR(1-Sensitivity)'); plt.ylabel('TPR(Recall)')\n",
    "    plt.legend()"
   ]
  },
  {
   "cell_type": "code",
   "execution_count": 205,
   "metadata": {
    "scrolled": false
   },
   "outputs": [
    {
     "name": "stdout",
     "output_type": "stream",
     "text": [
      "정확도: 0.7949561403508771\n",
      "정밀도: 0.065\n",
      "재현율: 1.0\n",
      "F1: 0.12206572769953053\n",
      "ROC: 0.8959955506117908\n"
     ]
    }
   ],
   "source": [
    "from sklearn.metrics import accuracy_score, precision_score, recall_score, f1_score, roc_auc_score\n",
    "print(\"정확도:\", accuracy_score(cn7_true, cn7_prediction))\n",
    "print(\"정밀도:\", precision_score(cn7_true, cn7_prediction))\n",
    "print(\"재현율:\", recall_score(cn7_true, cn7_prediction))\n",
    "print(\"F1:\",f1_score(cn7_true, cn7_prediction)) #결과는 아래에서 확인 가능하다.\n",
    "#roc_curve_plot(cn7_true, cn7_prediction[:, 1])\n",
    "print(\"ROC:\", roc_auc_score(cn7_true, cn7_prediction))"
   ]
  }
 ],
 "metadata": {
  "kernelspec": {
   "display_name": "Python 3",
   "language": "python",
   "name": "python3"
  },
  "language_info": {
   "codemirror_mode": {
    "name": "ipython",
    "version": 3
   },
   "file_extension": ".py",
   "mimetype": "text/x-python",
   "name": "python",
   "nbconvert_exporter": "python",
   "pygments_lexer": "ipython3",
   "version": "3.7.9"
  }
 },
 "nbformat": 4,
 "nbformat_minor": 4
}
